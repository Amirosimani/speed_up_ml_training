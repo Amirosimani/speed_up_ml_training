{
 "cells": [
  {
   "cell_type": "code",
   "execution_count": 1,
   "id": "a9628663-95a2-4694-8a78-f89a7d1941f2",
   "metadata": {},
   "outputs": [],
   "source": [
    "import time\n",
    "import random\n",
    "import pandas as pd\n",
    "import numpy as np\n",
    "from tqdm import tqdm\n",
    "import multiprocessing\n",
    "from itertools import repeat, product\n",
    "import matplotlib.pyplot as plt\n",
    "\n",
    "\n",
    "import xgboost as xgb\n",
    "from sklearn.metrics import f1_score\n",
    "from sklearn.pipeline import Pipeline\n",
    "from sklearn.datasets import fetch_20newsgroups\n",
    "from sklearn.model_selection import train_test_split\n",
    "from sklearn.feature_extraction.text import CountVectorizer\n",
    "\n",
    "\n",
    "\n",
    "random.seed(42)\n",
    "%matplotlib inline"
   ]
  },
  {
   "cell_type": "markdown",
   "id": "de4da534-3ef8-4be1-9686-1c647ccc4b0d",
   "metadata": {},
   "source": [
    "# Load the data"
   ]
  },
  {
   "cell_type": "code",
   "execution_count": 2,
   "id": "8f4322c1-6481-45f1-8ec3-ed5d840fb670",
   "metadata": {},
   "outputs": [],
   "source": [
    "twenty_train = fetch_20newsgroups(subset='train', shuffle=True, random_state=42)"
   ]
  },
  {
   "cell_type": "code",
   "execution_count": 3,
   "id": "e1aac72d-eb1c-474a-880a-8adf7075b2b1",
   "metadata": {},
   "outputs": [
    {
     "data": {
      "text/plain": [
       "11314"
      ]
     },
     "execution_count": 3,
     "metadata": {},
     "output_type": "execute_result"
    }
   ],
   "source": [
    "len(twenty_train.data)"
   ]
  },
  {
   "cell_type": "code",
   "execution_count": 4,
   "id": "6e6f60b9-6cca-4eb7-a0a2-f19052bdd9b5",
   "metadata": {},
   "outputs": [
    {
     "data": {
      "text/plain": [
       "['alt.atheism',\n",
       " 'comp.graphics',\n",
       " 'comp.os.ms-windows.misc',\n",
       " 'comp.sys.ibm.pc.hardware',\n",
       " 'comp.sys.mac.hardware',\n",
       " 'comp.windows.x',\n",
       " 'misc.forsale',\n",
       " 'rec.autos',\n",
       " 'rec.motorcycles',\n",
       " 'rec.sport.baseball',\n",
       " 'rec.sport.hockey',\n",
       " 'sci.crypt',\n",
       " 'sci.electronics',\n",
       " 'sci.med',\n",
       " 'sci.space',\n",
       " 'soc.religion.christian',\n",
       " 'talk.politics.guns',\n",
       " 'talk.politics.mideast',\n",
       " 'talk.politics.misc',\n",
       " 'talk.religion.misc']"
      ]
     },
     "execution_count": 4,
     "metadata": {},
     "output_type": "execute_result"
    }
   ],
   "source": [
    "twenty_train.target_names"
   ]
  },
  {
   "cell_type": "markdown",
   "id": "a8b4c01c-d01d-47f9-9aef-287dcbb0877d",
   "metadata": {},
   "source": [
    "# modeling"
   ]
  },
  {
   "cell_type": "code",
   "execution_count": 5,
   "id": "e3f7fbfe-9f1f-45ba-9095-ace3e93b7e1b",
   "metadata": {},
   "outputs": [],
   "source": [
    "X, y = twenty_train.data, twenty_train.target"
   ]
  },
  {
   "cell_type": "code",
   "execution_count": 6,
   "id": "41032ac5-3746-4ebb-a3f1-bdff3448a7d3",
   "metadata": {},
   "outputs": [],
   "source": [
    "vectorizer = CountVectorizer(lowercase=False, ngram_range=(1,2))\n",
    "\n",
    "X = vectorizer.fit_transform(X)"
   ]
  },
  {
   "cell_type": "code",
   "execution_count": 7,
   "id": "e83b89dc-26aa-4502-a2df-1098e48893df",
   "metadata": {},
   "outputs": [],
   "source": [
    "X_train, X_test, y_train, y_test = train_test_split(\n",
    "    X, y, test_size=0.2, random_state=42)"
   ]
  },
  {
   "cell_type": "code",
   "execution_count": 8,
   "id": "e6772d85-9d2d-412c-9231-ccfc949f7bc8",
   "metadata": {},
   "outputs": [],
   "source": [
    "n_jobs = [\n",
    "    multiprocessing.cpu_count() // 2,\n",
    "    -1,\n",
    "    1\n",
    "]\n",
    "\n",
    "tree_method = [\"exact\", \n",
    "               \"hist\"\n",
    "              ] # https://xgboost.readthedocs.io/en/latest/treemethod.html#approximated-solutions\n",
    "\n",
    "param_space = list(product(n_jobs, tree_method))"
   ]
  },
  {
   "cell_type": "code",
   "execution_count": 9,
   "id": "8cb3abc2-660f-4356-81db-9aeb77b69413",
   "metadata": {},
   "outputs": [
    {
     "data": {
      "text/plain": [
       "[(4, 'exact'),\n",
       " (4, 'hist'),\n",
       " (-1, 'exact'),\n",
       " (-1, 'hist'),\n",
       " (1, 'exact'),\n",
       " (1, 'hist')]"
      ]
     },
     "execution_count": 9,
     "metadata": {},
     "output_type": "execute_result"
    }
   ],
   "source": [
    "param_space"
   ]
  },
  {
   "cell_type": "code",
   "execution_count": null,
   "id": "213d6f48-bf03-42d7-8951-878d669a09cf",
   "metadata": {},
   "outputs": [],
   "source": [
    "num_exp = 1\n",
    "all_exps = []\n",
    "\n",
    "\n",
    "for n, t in param_space:\n",
    "    exp_time = []\n",
    "    exp_score = []\n",
    "    experiment_dict ={}\n",
    "    experiment_dict[\"method\"] = f\"n_job={n}, tree_method={t}\"   \n",
    "    \n",
    "    print(f\"n_job={n}, tree_method={t} x {num_exp} times\")\n",
    "    \n",
    "    for i in tqdm(repeat(1, num_exp), total=num_exp):\n",
    "        \n",
    "        xgb_model = xgb.XGBClassifier(n_jobs=n,\n",
    "                                      tree_method=t,\n",
    "                                      n_estimators=100, \n",
    "                                      random_state=42\n",
    "                                     )\n",
    "        \n",
    "        \n",
    "        text_clf = Pipeline([\n",
    "            # ('vect', CountVectorizer(lowercase=False, ngram_range=(1,2))),\n",
    "            ('clf', xgb_model)\n",
    "        ])\n",
    "\n",
    "        start = time.time()\n",
    "        text_clf.fit(X_train, y_train)\n",
    "        end = time.time()\n",
    "        exp_time.append(end-start)\n",
    "        \n",
    "        y_pred = text_clf.predict(X_test)\n",
    "        score = f1_score(y_test, y_pred, average='macro')\n",
    "        exp_score.append(score)\n",
    "        # print(score)\n",
    "    \n",
    "    experiment_dict[\"time_result\"] = exp_time\n",
    "    experiment_dict[\"average_score\"] = exp_score\n",
    "    \n",
    "    all_exps.append(experiment_dict)"
   ]
  },
  {
   "cell_type": "markdown",
   "id": "d09e5b3a-cac9-4816-bf20-98d5eb158cbd",
   "metadata": {},
   "source": [
    "### sklearn with Ray backend"
   ]
  },
  {
   "cell_type": "code",
   "execution_count": 10,
   "id": "b10c52f1-1f47-46c7-9e54-01b52303d2ec",
   "metadata": {},
   "outputs": [
    {
     "ename": "ModuleNotFoundError",
     "evalue": "No module named 'ray'",
     "output_type": "error",
     "traceback": [
      "\u001b[0;31m---------------------------------------------------------------------------\u001b[0m",
      "\u001b[0;31mModuleNotFoundError\u001b[0m                       Traceback (most recent call last)",
      "Cell \u001b[0;32mIn[10], line 2\u001b[0m\n\u001b[1;32m      1\u001b[0m \u001b[38;5;28;01mimport\u001b[39;00m \u001b[38;5;21;01mjoblib\u001b[39;00m\n\u001b[0;32m----> 2\u001b[0m \u001b[38;5;28;01mfrom\u001b[39;00m \u001b[38;5;21;01mray\u001b[39;00m\u001b[38;5;21;01m.\u001b[39;00m\u001b[38;5;21;01mutil\u001b[39;00m\u001b[38;5;21;01m.\u001b[39;00m\u001b[38;5;21;01mjoblib\u001b[39;00m \u001b[38;5;28;01mimport\u001b[39;00m register_ray\n\u001b[1;32m      3\u001b[0m register_ray()\n",
      "\u001b[0;31mModuleNotFoundError\u001b[0m: No module named 'ray'"
     ]
    }
   ],
   "source": [
    "import joblib\n",
    "from ray.util.joblib import register_ray\n",
    "register_ray()"
   ]
  },
  {
   "cell_type": "code",
   "execution_count": null,
   "id": "ef170028-0dce-4ee6-9a7f-6542927d9617",
   "metadata": {
    "tags": []
   },
   "outputs": [],
   "source": [
    "exp_time = []\n",
    "experiment_dict ={}\n",
    "for n_est in n_estimators:\n",
    "    experiment_dict[\"method\"] = f\"ray backend, n_est={n_est}\"\n",
    "    xgb_model = xgb.XGBClassifier(\n",
    "    #n_jobs=-1,\n",
    "    tree_method='exact',\n",
    "    n_estimators=100, \n",
    "    random_state=123\n",
    "    )\n",
    "\n",
    "\n",
    "    text_clf = Pipeline([\n",
    "        # ('vect', CountVectorizer(lowercase=False, ngram_range=(1,2))),\n",
    "        ('clf', xgb_model)\n",
    "    ])\n",
    "    for i in tqdm(repeat(1, num_exp), total=num_exp):\n",
    "        with joblib.parallel_backend('ray'):        \n",
    "            start = time.time()\n",
    "            text_clf.fit(X_train, y_train)\n",
    "            end = time.time()\n",
    "        exp_time.append(end-start)\n",
    "    experiment_dict[\"time_result\"] = exp_time"
   ]
  },
  {
   "cell_type": "code",
   "execution_count": null,
   "id": "ebfbe9ab-f444-4827-afbb-37c36e689dcd",
   "metadata": {},
   "outputs": [],
   "source": [
    "all_exps.append(experiment_dict)"
   ]
  },
  {
   "cell_type": "markdown",
   "id": "4748b6a7-9f38-498e-b2f9-a70cd5f90fc5",
   "metadata": {},
   "source": [
    "### Ray trainer"
   ]
  },
  {
   "cell_type": "code",
   "execution_count": null,
   "id": "a8722aa2-3085-4828-87b8-4f2c4d7b45df",
   "metadata": {},
   "outputs": [],
   "source": [
    "import ray\n",
    "# from ray.air.config import ScalingConfig\n",
    "from ray.train.xgboost impor                         t XGBoostTrainer\n",
    "# from ray.data.preprocessors import CountVectorizer"
   ]
  },
  {
   "cell_type": "code",
   "execution_count": null,
   "id": "5cdd356b-1d5b-458c-a3dc-2a1ee67d0d95",
   "metadata": {},
   "outputs": [],
   "source": [
    "df = df.dropna(subset=['preds'])\n",
    "df.shape"
   ]
  },
  {
   "cell_type": "code",
   "execution_count": null,
   "id": "a206f9a3-98b1-494d-ab7f-8230870a1186",
   "metadata": {},
   "outputs": [],
   "source": [
    "X, y = df['text'], df['preds']\n",
    "X_train, X_test, y_train, y_test = train_test_split(\n",
    "    X, y, test_size=0.2, random_state=123)"
   ]
  },
  {
   "cell_type": "code",
   "execution_count": null,
   "id": "85bd2afa-21bb-4bf6-8a4f-f5ef462e519c",
   "metadata": {},
   "outputs": [],
   "source": [
    "df_ray = ray.data.read_parquet(\"./data/df_labeled.parquet\")\n",
    "\n",
    "df_ray = df_ray.drop_columns(cols=['context_uid',\n",
    "                                          'text_embedding', \n",
    "                                          'text_truncated', \n",
    "                                          'url',\n",
    "                                          'probs',\n",
    "                                          'preds_str'])"
   ]
  },
  {
   "cell_type": "code",
   "execution_count": null,
   "id": "fc397d1a-938f-4669-b468-2fdc29a166b2",
   "metadata": {},
   "outputs": [],
   "source": [
    "train_dataset, valid_dataset = df_ray.train_test_split(test_size=0.3, seed=123)\n"
   ]
  },
  {
   "cell_type": "code",
   "execution_count": null,
   "id": "d89a0e0e-d4fe-47f2-a6ff-533288169d43",
   "metadata": {},
   "outputs": [],
   "source": [
    "train_dataset = ray.data.from_pandas(X)"
   ]
  },
  {
   "cell_type": "code",
   "execution_count": null,
   "id": "94996008-d890-4706-9598-6b9564922946",
   "metadata": {},
   "outputs": [],
   "source": [
    "num_workers=2\n",
    "# XGBoost specific params\n",
    "params = {\n",
    "    \"tree_method\": \"exact\",\n",
    "    \"objective\": \"multi:softprob\",\n",
    "    \"eval_metric\": \"merror\",\n",
    "}\n",
    "\n",
    "preprocessor = CountVectorizer()\n",
    "\n",
    "trainer = XGBoostTrainer(\n",
    "    scaling_config=ScalingConfig(num_workers=num_workers, use_gpu=False),\n",
    "    label_column=\"preds\",\n",
    "    params=params,\n",
    "    datasets={\"train\": train_dataset, \"valid\": valid_dataset},\n",
    "    preprocessor=vectorizer,\n",
    "    num_boost_round=100,\n",
    ")"
   ]
  },
  {
   "cell_type": "markdown",
   "id": "1271a147-12f2-494e-87b5-1273a4913545",
   "metadata": {},
   "source": [
    "# Visualize result"
   ]
  },
  {
   "cell_type": "code",
   "execution_count": null,
   "id": "b8faed2b-4abd-4793-9166-50463c642052",
   "metadata": {},
   "outputs": [],
   "source": [
    "df_result = pd.DataFrame(all_exps).set_index(\"method\")"
   ]
  },
  {
   "cell_type": "code",
   "execution_count": null,
   "id": "681a1bae-cefc-47ce-b203-7679e18e68cb",
   "metadata": {},
   "outputs": [],
   "source": [
    "df_result"
   ]
  },
  {
   "cell_type": "code",
   "execution_count": null,
   "id": "0d35373c-ed6a-4bc2-9999-ddeee88581c7",
   "metadata": {},
   "outputs": [],
   "source": [
    "df_result.to_csv('./df_result.csv')"
   ]
  },
  {
   "cell_type": "code",
   "execution_count": null,
   "id": "62321107-cacc-4178-a55b-2c744c564fc4",
   "metadata": {},
   "outputs": [],
   "source": [
    "fig = plt.figure(figsize=(10, 10))\n",
    "plt.title(f'XGB performance benchmark for {num_exp} iteration (contract classification data)')\n",
    "plt.ylabel(\"elapsed time (sec)\")\n",
    "fig = df_result[\"time_result\"].apply(lambda x: pd.Series(x)).T.boxplot(rot=45)\n",
    "plt.tight_layout()\n",
    "fig.figure.savefig(f'./img/performance_{num_exp}_n_estimator.png')\n"
   ]
  },
  {
   "cell_type": "code",
   "execution_count": null,
   "id": "6b122275-dcc2-4e14-8731-56ed68a96261",
   "metadata": {},
   "outputs": [],
   "source": [
    "fig = plt.figure(figsize=(10, 10))\n",
    "plt.title(f'XGB average time for {num_exp} (contract classification data)')\n",
    "plt.ylabel(\"elapsed time (sec)\")\n",
    "\n",
    "df_result_t = df_result[\"time_result\"].apply(lambda x: pd.Series(x)).T\n",
    "fig = df_result_t.reindex(df_result_t.mean().sort_values().index, axis=1).mean().plot(kind='bar', rot=45)\n",
    "\n",
    "plt.tight_layout()\n",
    "fig.figure.savefig(f'./average_time_{num_exp}.png')\n",
    "\n"
   ]
  },
  {
   "cell_type": "code",
   "execution_count": null,
   "id": "11584f7b-9355-4404-9704-4066ed385ae5",
   "metadata": {},
   "outputs": [],
   "source": [
    "# ray https://www.anyscale.com/blog/three-ways-to-speed-up-xgboost-model-training\n",
    "\n"
   ]
  }
 ],
 "metadata": {
  "kernelspec": {
   "display_name": "Python 3 (ipykernel)",
   "language": "python",
   "name": "python3"
  },
  "language_info": {
   "codemirror_mode": {
    "name": "ipython",
    "version": 3
   },
   "file_extension": ".py",
   "mimetype": "text/x-python",
   "name": "python",
   "nbconvert_exporter": "python",
   "pygments_lexer": "ipython3",
   "version": "3.10.9"
  },
  "vscode": {
   "interpreter": {
    "hash": "0479e754db294e497611fd8d244dbddaec7d11e5bc6920d9ff3f73235eb6645f"
   }
  }
 },
 "nbformat": 4,
 "nbformat_minor": 5
}
