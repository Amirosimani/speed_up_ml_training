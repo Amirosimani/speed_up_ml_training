{
 "cells": [
  {
   "cell_type": "code",
   "execution_count": 1,
   "id": "a9628663-95a2-4694-8a78-f89a7d1941f2",
   "metadata": {},
   "outputs": [],
   "source": [
    "# import time\n",
    "import gc\n",
    "import random\n",
    "import pandas as pd\n",
    "# import numpy as np\n",
    "# from tqdm import tqdm\n",
    "import matplotlib.pyplot as plt\n",
    "\n",
    "\n",
    "# import xgboost as xgb\n",
    "# from sklearn.metrics import f1_score\n",
    "# from sklearn.pipeline import Pipeline\n",
    "from sklearn.datasets import fetch_20newsgroups\n",
    "# from sklearn.model_selection import train_test_split\n",
    "# from sklearn.feature_extraction.text import CountVectorizer\n",
    "\n",
    "random.seed(42)\n",
    "gc.enable()\n",
    "%matplotlib inline"
   ]
  },
  {
   "cell_type": "markdown",
   "id": "a8b4c01c-d01d-47f9-9aef-287dcbb0877d",
   "metadata": {},
   "source": [
    "# modeling"
   ]
  },
  {
   "cell_type": "markdown",
   "id": "a878913b",
   "metadata": {},
   "source": [
    "### Dask_XGB"
   ]
  },
  {
   "cell_type": "markdown",
   "id": "c59e26f8",
   "metadata": {},
   "source": [
    "https://xgboost.readthedocs.io/en/stable/tutorials/dask.html\n",
    "\n",
    "https://examples.dask.org/machine-learning/text-vectorization.html\n",
    "\n",
    "https://examples.dask.org/machine-learning/xgboost.html"
   ]
  },
  {
   "cell_type": "code",
   "execution_count": null,
   "id": "9d24268a",
   "metadata": {},
   "outputs": [],
   "source": [
    "import dask_xgboost\n",
    "\n",
    "import dask.dataframe as dd\n",
    "from dask.distributed import Client\n",
    "import dask_ml.feature_extraction.text\n",
    "from dask_ml.model_selection import train_test_split"
   ]
  },
  {
   "cell_type": "code",
   "execution_count": null,
   "id": "fb0dc3a2",
   "metadata": {},
   "outputs": [],
   "source": [
    "X_train, X_test, y_train, y_test = train_test_split(X, y, test_size=0.2)"
   ]
  },
  {
   "cell_type": "code",
   "execution_count": null,
   "id": "4cb0334e",
   "metadata": {},
   "outputs": [],
   "source": [
    "params = {'objective': 'multi:softmax',\n",
    "          'num_class':20}\n",
    "\n",
    "bst = dask_xgboost.train(client, params, X_train, y_train, num_boost_round=100)"
   ]
  },
  {
   "cell_type": "code",
   "execution_count": null,
   "id": "7787076f",
   "metadata": {},
   "outputs": [],
   "source": [
    "bst.best_iteration()"
   ]
  },
  {
   "cell_type": "code",
   "execution_count": null,
   "id": "6dac0eff",
   "metadata": {},
   "outputs": [],
   "source": [
    "y_hat = dask_xgboost.predict(client, bst, X_test).persist()\n",
    "y_hat"
   ]
  },
  {
   "cell_type": "code",
   "execution_count": null,
   "id": "fbc31f92",
   "metadata": {},
   "outputs": [],
   "source": [
    "y_hat.compute()"
   ]
  },
  {
   "cell_type": "code",
   "execution_count": null,
   "id": "7ea12d99",
   "metadata": {},
   "outputs": [],
   "source": [
    "y_test, y_hat = dask.compute(y_test, y_hat)"
   ]
  },
  {
   "cell_type": "code",
   "execution_count": null,
   "id": "cf3d10cb",
   "metadata": {},
   "outputs": [],
   "source": [
    "score = f1_score(y_test, y_hat, average='macro')"
   ]
  },
  {
   "cell_type": "markdown",
   "id": "ec9fcf3c",
   "metadata": {},
   "source": [
    "### XGBoost with SKlearn wrapper on Dask"
   ]
  },
  {
   "cell_type": "code",
   "execution_count": 2,
   "id": "c51fe44b",
   "metadata": {},
   "outputs": [],
   "source": [
    "import xgboost as xgb\n",
    "import dask.array as da\n",
    "import dask.distributed\n",
    "import dask.dataframe as dd\n",
    "import dask_ml.feature_extraction.text\n",
    "\n",
    "from distributed import LocalCluster, Client"
   ]
  },
  {
   "cell_type": "code",
   "execution_count": 3,
   "id": "fc5435ac",
   "metadata": {},
   "outputs": [],
   "source": [
    "def load_data():\n",
    "    twenty_train = fetch_20newsgroups(subset='train', shuffle=True, random_state=42)\n",
    "    \n",
    "    df = dd.from_pandas(pd.DataFrame({\"text\": twenty_train.data,\n",
    "                                      \"target\": twenty_train.target}),\n",
    "                        npartitions=25)\n",
    "    \n",
    "    vect = dask_ml.feature_extraction.text.HashingVectorizer(lowercase=False, ngram_range=(1, 2))\n",
    "#     vect = dask_ml.feature_extraction.text.CountVectorizer()\n",
    "    \n",
    "    y = df['target'].to_dask_array(lengths=True)\n",
    "    X = vect.fit_transform(df['text'])\n",
    "    \n",
    "    X.compute_chunk_sizes()\n",
    "    y.compute_chunk_sizes()\n",
    "    \n",
    "    return X, y\n",
    "\n",
    "\n",
    "def main(X, y, client: Client) -> None:\n",
    "    clf = xgb.dask.DaskXGBClassifier(n_estimators=100, tree_method=\"hist\")\n",
    "    clf.client = client  # assign the client\n",
    "    clf.fit(X, y, eval_set=[(X, y)])\n",
    "    proba = clf.predict_proba(X)"
   ]
  },
  {
   "cell_type": "code",
   "execution_count": null,
   "id": "ce26acdb",
   "metadata": {},
   "outputs": [
    {
     "name": "stderr",
     "output_type": "stream",
     "text": [
      "INFO:distributed.scheduler:Receive client connection: Client-worker-d87e7c70-ac2f-11ed-9dec-3267941770bc\n",
      "INFO:distributed.core:Starting established connection to tcp://127.0.0.1:53639\n",
      "INFO:distributed.scheduler:Receive client connection: Client-worker-d87f1a5e-ac2f-11ed-9df0-3267941770bc\n",
      "INFO:distributed.core:Starting established connection to tcp://127.0.0.1:53640\n",
      "INFO:distributed.scheduler:Receive client connection: Client-worker-d87f7080-ac2f-11ed-9deb-3267941770bc\n",
      "INFO:distributed.core:Starting established connection to tcp://127.0.0.1:53642\n",
      "INFO:distributed.scheduler:Receive client connection: Client-worker-d87fa51e-ac2f-11ed-9ded-3267941770bc\n",
      "INFO:distributed.core:Starting established connection to tcp://127.0.0.1:53644\n",
      "INFO:distributed.scheduler:Receive client connection: Client-worker-d87f0f0a-ac2f-11ed-9def-3267941770bc\n",
      "INFO:distributed.core:Starting established connection to tcp://127.0.0.1:53641\n",
      "INFO:distributed.scheduler:Receive client connection: Client-worker-d87f3d22-ac2f-11ed-9de9-3267941770bc\n",
      "INFO:distributed.core:Starting established connection to tcp://127.0.0.1:53643\n",
      "INFO:distributed.scheduler:Receive client connection: Client-worker-d87ffe06-ac2f-11ed-9dea-3267941770bc\n",
      "INFO:distributed.core:Starting established connection to tcp://127.0.0.1:53645\n",
      "INFO:distributed.scheduler:Receive client connection: Client-worker-d88045d2-ac2f-11ed-9dee-3267941770bc\n",
      "INFO:distributed.core:Starting established connection to tcp://127.0.0.1:53646\n",
      "[23:21:41] task [xgboost.dask-0]:tcp://127.0.0.1:53595 got new rank 0\n",
      "[23:21:41] task [xgboost.dask-1]:tcp://127.0.0.1:53594 got new rank 1\n",
      "[23:21:41] task [xgboost.dask-2]:tcp://127.0.0.1:53607 got new rank 2\n",
      "[23:21:41] task [xgboost.dask-3]:tcp://127.0.0.1:53604 got new rank 3\n",
      "[23:21:41] task [xgboost.dask-4]:tcp://127.0.0.1:53603 got new rank 4\n",
      "[23:21:41] task [xgboost.dask-5]:tcp://127.0.0.1:53600 got new rank 5\n",
      "[23:21:41] task [xgboost.dask-6]:tcp://127.0.0.1:53612 got new rank 6\n",
      "[23:21:41] task [xgboost.dask-7]:tcp://127.0.0.1:53613 got new rank 7\n"
     ]
    }
   ],
   "source": [
    "if __name__ == \"__main__\":\n",
    "    \n",
    "    X, y = load_data()\n",
    "\n",
    "    with LocalCluster(n_workers=8, threads_per_worker=1) as cluster:\n",
    "        with Client(cluster) as client:\n",
    "            main(X, y, client)"
   ]
  },
  {
   "cell_type": "markdown",
   "id": "1271a147-12f2-494e-87b5-1273a4913545",
   "metadata": {},
   "source": [
    "# Visualize result"
   ]
  },
  {
   "cell_type": "code",
   "execution_count": null,
   "id": "75b778ca",
   "metadata": {},
   "outputs": [],
   "source": []
  },
  {
   "cell_type": "code",
   "execution_count": null,
   "id": "b8faed2b-4abd-4793-9166-50463c642052",
   "metadata": {},
   "outputs": [],
   "source": [
    "## if you ran the notebook\n",
    "# df_result = pd.DataFrame(all_exps).set_index(\"method\")\n",
    "# df_result = df_result.reset_index()\n",
    "\n",
    "# if you are loading the result dataframe from file\n",
    "import ast\n",
    "\n",
    "df_result = pd.read_csv('../output/df_result_joblib_ray_29012023.csv')\n",
    "df_result['time_result'] = df_result['time_result'].apply(lambda x: ast.literal_eval(x))"
   ]
  },
  {
   "cell_type": "code",
   "execution_count": null,
   "id": "20a607ba",
   "metadata": {},
   "outputs": [],
   "source": [
    "df_result['average_score'][0]"
   ]
  },
  {
   "cell_type": "code",
   "execution_count": null,
   "id": "771d3415-c25a-463f-bbf8-11758cff9e15",
   "metadata": {},
   "outputs": [],
   "source": [
    "df_result['time_result_avg'] = df_result['time_result'].apply(lambda x: np.mean(x))"
   ]
  },
  {
   "cell_type": "code",
   "execution_count": null,
   "id": "5916c77f-bf1a-498b-a54e-afb2705e4370",
   "metadata": {},
   "outputs": [],
   "source": [
    "df_result = df_result.sort_values(by=\"time_result_avg\")"
   ]
  },
  {
   "cell_type": "code",
   "execution_count": null,
   "id": "e8292654-110e-44e4-8992-c0453d85e4e0",
   "metadata": {},
   "outputs": [],
   "source": [
    "df_result = df_result.head(2)"
   ]
  },
  {
   "cell_type": "code",
   "execution_count": null,
   "id": "62321107-cacc-4178-a55b-2c744c564fc4",
   "metadata": {},
   "outputs": [],
   "source": [
    "num_exp = 50\n",
    "\n",
    "fig = plt.figure(figsize=(10, 10))\n",
    "plt.title(f'XGB performance benchmark for {num_exp} iterations (20 Newsgroup data)')\n",
    "plt.ylabel(\"elapsed time (sec)\")\n",
    "fig = df_result[\"time_result\"].head(2).apply(lambda x: pd.Series(x)).T.boxplot(rot=45)\n",
    "plt.tight_layout()\n",
    "fig.figure.savefig(f'../img/performance_{num_exp}_joblib_ray.png')\n"
   ]
  },
  {
   "cell_type": "code",
   "execution_count": null,
   "id": "6b122275-dcc2-4e14-8731-56ed68a96261",
   "metadata": {},
   "outputs": [],
   "source": [
    "fig = plt.figure(figsize=(10, 10))\n",
    "plt.title(f'XGB average time for {num_exp} (20 Newsgroup data)')\n",
    "plt.ylabel(\"elapsed time (sec)\")\n",
    "\n",
    "df_result_t = df_result[\"time_result\"].head(2).apply(lambda x: pd.Series(x)).T\n",
    "fig = df_result_t.reindex(df_result_t.mean().sort_values().index, axis=1).mean().plot(kind='bar', rot=45)\n",
    "\n",
    "plt.tight_layout()\n",
    "# fig.figure.savefig(f'../img/average_time_{num_exp}.png')\n",
    "\n"
   ]
  },
  {
   "cell_type": "code",
   "execution_count": null,
   "id": "11584f7b-9355-4404-9704-4066ed385ae5",
   "metadata": {},
   "outputs": [],
   "source": [
    "# ray https://www.anyscale.com/blog/three-ways-to-speed-up-xgboost-model-training"
   ]
  }
 ],
 "metadata": {
  "kernelspec": {
   "display_name": "Python 3 (ipykernel)",
   "language": "python",
   "name": "python3"
  },
  "language_info": {
   "codemirror_mode": {
    "name": "ipython",
    "version": 3
   },
   "file_extension": ".py",
   "mimetype": "text/x-python",
   "name": "python",
   "nbconvert_exporter": "python",
   "pygments_lexer": "ipython3",
   "version": "3.9.16"
  },
  "vscode": {
   "interpreter": {
    "hash": "0479e754db294e497611fd8d244dbddaec7d11e5bc6920d9ff3f73235eb6645f"
   }
  }
 },
 "nbformat": 4,
 "nbformat_minor": 5
}
