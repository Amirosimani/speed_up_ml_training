{
 "cells": [
  {
   "cell_type": "code",
   "execution_count": 14,
   "id": "a9628663-95a2-4694-8a78-f89a7d1941f2",
   "metadata": {},
   "outputs": [],
   "source": [
    "import time\n",
    "import gc\n",
    "import random\n",
    "import pandas as pd\n",
    "import numpy as np\n",
    "# from tqdm import tqdm\n",
    "import matplotlib.pyplot as plt\n",
    "\n",
    "\n",
    "# import xgboost as xgb\n",
    "# from sklearn.metrics import f1_score\n",
    "# from sklearn.pipeline import Pipeline\n",
    "from sklearn.datasets import fetch_20newsgroups\n",
    "# from sklearn.model_selection import train_test_split\n",
    "# from sklearn.feature_extraction.text import CountVectorizer\n",
    "\n",
    "random.seed(42)\n",
    "gc.enable()\n",
    "%matplotlib inline"
   ]
  },
  {
   "cell_type": "markdown",
   "id": "a8b4c01c-d01d-47f9-9aef-287dcbb0877d",
   "metadata": {},
   "source": [
    "# modeling"
   ]
  },
  {
   "cell_type": "markdown",
   "id": "a878913b",
   "metadata": {},
   "source": [
    "### Dask_XGB"
   ]
  },
  {
   "cell_type": "markdown",
   "id": "c59e26f8",
   "metadata": {},
   "source": [
    "https://xgboost.readthedocs.io/en/stable/tutorials/dask.html\n",
    "\n",
    "https://examples.dask.org/machine-learning/text-vectorization.html\n",
    "\n",
    "https://examples.dask.org/machine-learning/xgboost.html"
   ]
  },
  {
   "cell_type": "code",
   "execution_count": null,
   "id": "9d24268a",
   "metadata": {},
   "outputs": [],
   "source": [
    "import dask_xgboost\n",
    "\n",
    "import dask.dataframe as dd\n",
    "from dask.distributed import Client\n",
    "import dask_ml.feature_extraction.text\n",
    "from dask_ml.model_selection import train_test_split"
   ]
  },
  {
   "cell_type": "code",
   "execution_count": null,
   "id": "fb0dc3a2",
   "metadata": {},
   "outputs": [],
   "source": [
    "X_train, X_test, y_train, y_test = train_test_split(X, y, test_size=0.2)"
   ]
  },
  {
   "cell_type": "code",
   "execution_count": null,
   "id": "4cb0334e",
   "metadata": {},
   "outputs": [],
   "source": [
    "params = {'objective': 'multi:softmax',\n",
    "          'num_class':20}\n",
    "\n",
    "bst = dask_xgboost.train(client, params, X_train, y_train, num_boost_round=100)"
   ]
  },
  {
   "cell_type": "code",
   "execution_count": null,
   "id": "6120eb34",
   "metadata": {},
   "outputs": [],
   "source": [
    "bst.best_iteration()"
   ]
  },
  {
   "cell_type": "code",
   "execution_count": null,
   "id": "6dac0eff",
   "metadata": {},
   "outputs": [],
   "source": [
    "y_hat = dask_xgboost.predict(client, bst, X_test).persist()\n",
    "y_hat"
   ]
  },
  {
   "cell_type": "code",
   "execution_count": null,
   "id": "fbc31f92",
   "metadata": {},
   "outputs": [],
   "source": [
    "y_hat.compute()"
   ]
  },
  {
   "cell_type": "code",
   "execution_count": null,
   "id": "7ea12d99",
   "metadata": {},
   "outputs": [],
   "source": [
    "y_test, y_hat = dask.compute(y_test, y_hat)"
   ]
  },
  {
   "cell_type": "code",
   "execution_count": null,
   "id": "cf3d10cb",
   "metadata": {},
   "outputs": [],
   "source": [
    "score = f1_score(y_test, y_hat, average='macro')"
   ]
  },
  {
   "cell_type": "markdown",
   "id": "9c02430c",
   "metadata": {},
   "source": [
    "### XGBoost with SKlearn wrapper on Dask"
   ]
  },
  {
   "cell_type": "code",
   "execution_count": 2,
   "id": "cadb485a",
   "metadata": {},
   "outputs": [],
   "source": [
    "from itertools import repeat\n",
    "\n",
    "import xgboost as xgb\n",
    "import dask.array as da\n",
    "import dask.distributed\n",
    "import dask.dataframe as dd\n",
    "import dask_ml.feature_extraction.text\n",
    "\n",
    "from distributed import LocalCluster, Client"
   ]
  },
  {
   "cell_type": "code",
   "execution_count": 3,
   "id": "3971d420",
   "metadata": {},
   "outputs": [],
   "source": [
    "def load_data():\n",
    "    twenty_train = fetch_20newsgroups(subset='train', shuffle=True, random_state=42)\n",
    "    \n",
    "    df = dd.from_pandas(pd.DataFrame({\"text\": twenty_train.data,\n",
    "                                      \"target\": twenty_train.target}),\n",
    "                        npartitions=25)\n",
    "    \n",
    "    vect = dask_ml.feature_extraction.text.HashingVectorizer(lowercase=False, ngram_range=(1, 2))\n",
    "#     vect = dask_ml.feature_extraction.text.CountVectorizer()\n",
    "    \n",
    "    y = df['target'].to_dask_array(lengths=True)\n",
    "    X = vect.fit_transform(df['text'])\n",
    "    \n",
    "    X.compute_chunk_sizes()\n",
    "    y.compute_chunk_sizes()\n",
    "    \n",
    "    return X, y\n",
    "\n",
    "\n",
    "def main(X, y, client: Client) -> None:\n",
    "    clf = xgb.dask.DaskXGBClassifier(n_estimators=100, tree_method=\"hist\")\n",
    "    clf.client = client  # assign the client\n",
    "    clf.fit(X, y, eval_set=[(X, y)])\n",
    "#     proba = clf.predict_proba(X)"
   ]
  },
  {
   "cell_type": "code",
   "execution_count": 4,
   "id": "79d7a48f",
   "metadata": {},
   "outputs": [
    {
     "name": "stderr",
     "output_type": "stream",
     "text": [
      "INFO:distributed.scheduler:Receive client connection: Client-worker-4118045e-b171-11ed-87a4-3267941770bc\n",
      "INFO:distributed.core:Starting established connection to tcp://127.0.0.1:50485\n",
      "INFO:distributed.scheduler:Receive client connection: Client-worker-41180710-b171-11ed-87a5-3267941770bc\n",
      "INFO:distributed.core:Starting established connection to tcp://127.0.0.1:50487\n",
      "INFO:distributed.scheduler:Receive client connection: Client-worker-4118068e-b171-11ed-87a6-3267941770bc\n",
      "INFO:distributed.core:Starting established connection to tcp://127.0.0.1:50486\n",
      "INFO:distributed.scheduler:Receive client connection: Client-worker-411801a2-b171-11ed-87a7-3267941770bc\n",
      "INFO:distributed.core:Starting established connection to tcp://127.0.0.1:50484\n",
      "[15:52:30] task [xgboost.dask-0]:tcp://127.0.0.1:50460 got new rank 0\n",
      "[15:52:30] task [xgboost.dask-1]:tcp://127.0.0.1:50462 got new rank 1\n",
      "[15:52:30] task [xgboost.dask-2]:tcp://127.0.0.1:50461 got new rank 2\n",
      "[15:52:30] task [xgboost.dask-3]:tcp://127.0.0.1:50463 got new rank 3\n"
     ]
    },
    {
     "name": "stdout",
     "output_type": "stream",
     "text": [
      "[0]\tvalidation_0-mlogloss:1.74609\n",
      "[1]\tvalidation_0-mlogloss:1.46661\n",
      "[2]\tvalidation_0-mlogloss:1.28151\n",
      "[3]\tvalidation_0-mlogloss:1.14217\n",
      "[4]\tvalidation_0-mlogloss:1.03220\n",
      "[5]\tvalidation_0-mlogloss:0.93921\n",
      "[6]\tvalidation_0-mlogloss:0.85859\n",
      "[7]\tvalidation_0-mlogloss:0.79099\n",
      "[8]\tvalidation_0-mlogloss:0.73063\n",
      "[9]\tvalidation_0-mlogloss:0.67843\n",
      "[10]\tvalidation_0-mlogloss:0.63418\n",
      "[11]\tvalidation_0-mlogloss:0.59287\n",
      "[12]\tvalidation_0-mlogloss:0.55537\n",
      "[13]\tvalidation_0-mlogloss:0.52197\n",
      "[14]\tvalidation_0-mlogloss:0.49365\n",
      "[15]\tvalidation_0-mlogloss:0.46944\n",
      "[16]\tvalidation_0-mlogloss:0.44421\n",
      "[17]\tvalidation_0-mlogloss:0.42131\n",
      "[18]\tvalidation_0-mlogloss:0.39976\n",
      "[19]\tvalidation_0-mlogloss:0.38100\n"
     ]
    },
    {
     "name": "stderr",
     "output_type": "stream",
     "text": [
      "INFO:distributed.worker:Run out-of-band function '_start_tracker'\n",
      "[17:00:26] task [xgboost.dask-0]:tcp://127.0.0.1:50460 got new rank 0\n",
      "[17:00:26] task [xgboost.dask-1]:tcp://127.0.0.1:50462 got new rank 1\n",
      "[17:00:26] task [xgboost.dask-2]:tcp://127.0.0.1:50461 got new rank 2\n",
      "[17:00:26] task [xgboost.dask-3]:tcp://127.0.0.1:50463 got new rank 3\n"
     ]
    },
    {
     "name": "stdout",
     "output_type": "stream",
     "text": [
      "[0]\tvalidation_0-mlogloss:1.74618\n",
      "[1]\tvalidation_0-mlogloss:1.46663\n",
      "[2]\tvalidation_0-mlogloss:1.28148\n",
      "[3]\tvalidation_0-mlogloss:1.14215\n",
      "[4]\tvalidation_0-mlogloss:1.03221\n",
      "[5]\tvalidation_0-mlogloss:0.93945\n",
      "[6]\tvalidation_0-mlogloss:0.85882\n",
      "[7]\tvalidation_0-mlogloss:0.79161\n",
      "[8]\tvalidation_0-mlogloss:0.73142\n",
      "[9]\tvalidation_0-mlogloss:0.67911\n",
      "[10]\tvalidation_0-mlogloss:0.63333\n",
      "[11]\tvalidation_0-mlogloss:0.59238\n",
      "[12]\tvalidation_0-mlogloss:0.55533\n",
      "[13]\tvalidation_0-mlogloss:0.52400\n",
      "[14]\tvalidation_0-mlogloss:0.49372\n",
      "[15]\tvalidation_0-mlogloss:0.46607\n",
      "[16]\tvalidation_0-mlogloss:0.44168\n",
      "[17]\tvalidation_0-mlogloss:0.41967\n",
      "[18]\tvalidation_0-mlogloss:0.39855\n",
      "[19]\tvalidation_0-mlogloss:0.37884\n"
     ]
    },
    {
     "name": "stderr",
     "output_type": "stream",
     "text": [
      "INFO:distributed.worker:Run out-of-band function '_start_tracker'\n",
      "[18:06:26] task [xgboost.dask-0]:tcp://127.0.0.1:50460 got new rank 0\n",
      "[18:06:26] task [xgboost.dask-1]:tcp://127.0.0.1:50462 got new rank 1\n",
      "[18:06:26] task [xgboost.dask-2]:tcp://127.0.0.1:50461 got new rank 2\n",
      "[18:06:26] task [xgboost.dask-3]:tcp://127.0.0.1:50463 got new rank 3\n"
     ]
    },
    {
     "name": "stdout",
     "output_type": "stream",
     "text": [
      "[0]\tvalidation_0-mlogloss:1.74619\n",
      "[1]\tvalidation_0-mlogloss:1.46665\n",
      "[2]\tvalidation_0-mlogloss:1.28265\n",
      "[3]\tvalidation_0-mlogloss:1.14169\n",
      "[4]\tvalidation_0-mlogloss:1.03054\n",
      "[5]\tvalidation_0-mlogloss:0.93611\n",
      "[6]\tvalidation_0-mlogloss:0.85798\n",
      "[7]\tvalidation_0-mlogloss:0.79012\n",
      "[8]\tvalidation_0-mlogloss:0.73077\n",
      "[9]\tvalidation_0-mlogloss:0.67875\n",
      "[10]\tvalidation_0-mlogloss:0.63494\n",
      "[11]\tvalidation_0-mlogloss:0.59518\n",
      "[12]\tvalidation_0-mlogloss:0.55828\n",
      "[13]\tvalidation_0-mlogloss:0.52504\n",
      "[14]\tvalidation_0-mlogloss:0.49592\n",
      "[15]\tvalidation_0-mlogloss:0.46960\n",
      "[16]\tvalidation_0-mlogloss:0.44371\n",
      "[17]\tvalidation_0-mlogloss:0.42130\n",
      "[18]\tvalidation_0-mlogloss:0.40121\n",
      "[19]\tvalidation_0-mlogloss:0.37960\n"
     ]
    },
    {
     "name": "stderr",
     "output_type": "stream",
     "text": [
      "INFO:distributed.worker:Run out-of-band function '_start_tracker'\n",
      "[19:12:37] task [xgboost.dask-0]:tcp://127.0.0.1:50460 got new rank 0\n",
      "[19:12:37] task [xgboost.dask-1]:tcp://127.0.0.1:50462 got new rank 1\n",
      "[19:12:37] task [xgboost.dask-2]:tcp://127.0.0.1:50461 got new rank 2\n",
      "[19:12:37] task [xgboost.dask-3]:tcp://127.0.0.1:50463 got new rank 3\n"
     ]
    },
    {
     "name": "stdout",
     "output_type": "stream",
     "text": [
      "[0]\tvalidation_0-mlogloss:1.74609\n",
      "[1]\tvalidation_0-mlogloss:1.46658\n",
      "[2]\tvalidation_0-mlogloss:1.28148\n",
      "[3]\tvalidation_0-mlogloss:1.14215\n",
      "[4]\tvalidation_0-mlogloss:1.03219\n",
      "[5]\tvalidation_0-mlogloss:0.93920\n",
      "[6]\tvalidation_0-mlogloss:0.85858\n",
      "[7]\tvalidation_0-mlogloss:0.79128\n",
      "[8]\tvalidation_0-mlogloss:0.73138\n",
      "[9]\tvalidation_0-mlogloss:0.67922\n",
      "[10]\tvalidation_0-mlogloss:0.63364\n",
      "[11]\tvalidation_0-mlogloss:0.59340\n",
      "[12]\tvalidation_0-mlogloss:0.55538\n",
      "[13]\tvalidation_0-mlogloss:0.52443\n",
      "[14]\tvalidation_0-mlogloss:0.49373\n",
      "[15]\tvalidation_0-mlogloss:0.46519\n",
      "[16]\tvalidation_0-mlogloss:0.44053\n",
      "[17]\tvalidation_0-mlogloss:0.41892\n",
      "[18]\tvalidation_0-mlogloss:0.39774\n",
      "[19]\tvalidation_0-mlogloss:0.37812\n"
     ]
    },
    {
     "name": "stderr",
     "output_type": "stream",
     "text": [
      "INFO:distributed.worker:Run out-of-band function '_start_tracker'\n",
      "[20:20:09] task [xgboost.dask-0]:tcp://127.0.0.1:50460 got new rank 0\n",
      "[20:20:09] task [xgboost.dask-1]:tcp://127.0.0.1:50462 got new rank 1\n",
      "[20:20:09] task [xgboost.dask-2]:tcp://127.0.0.1:50461 got new rank 2\n",
      "[20:20:09] task [xgboost.dask-3]:tcp://127.0.0.1:50463 got new rank 3\n"
     ]
    },
    {
     "name": "stdout",
     "output_type": "stream",
     "text": [
      "[0]\tvalidation_0-mlogloss:1.74594\n",
      "[1]\tvalidation_0-mlogloss:1.46642\n",
      "[2]\tvalidation_0-mlogloss:1.28020\n",
      "[3]\tvalidation_0-mlogloss:1.14081\n",
      "[4]\tvalidation_0-mlogloss:1.02747\n",
      "[5]\tvalidation_0-mlogloss:0.93598\n",
      "[6]\tvalidation_0-mlogloss:0.85411\n",
      "[7]\tvalidation_0-mlogloss:0.78793\n",
      "[8]\tvalidation_0-mlogloss:0.73203\n",
      "[9]\tvalidation_0-mlogloss:0.68013\n",
      "[10]\tvalidation_0-mlogloss:0.63485\n",
      "[11]\tvalidation_0-mlogloss:0.59421\n",
      "[12]\tvalidation_0-mlogloss:0.55699\n",
      "[13]\tvalidation_0-mlogloss:0.52377\n",
      "[14]\tvalidation_0-mlogloss:0.49421\n",
      "[15]\tvalidation_0-mlogloss:0.46730\n",
      "[16]\tvalidation_0-mlogloss:0.44297\n",
      "[17]\tvalidation_0-mlogloss:0.41930\n",
      "[18]\tvalidation_0-mlogloss:0.39797\n",
      "[19]\tvalidation_0-mlogloss:0.37981\n"
     ]
    },
    {
     "name": "stderr",
     "output_type": "stream",
     "text": [
      "INFO:distributed.worker:Run out-of-band function '_start_tracker'\n",
      "[21:27:42] task [xgboost.dask-0]:tcp://127.0.0.1:50460 got new rank 0\n",
      "[21:27:42] task [xgboost.dask-1]:tcp://127.0.0.1:50462 got new rank 1\n",
      "[21:27:42] task [xgboost.dask-2]:tcp://127.0.0.1:50461 got new rank 2\n",
      "[21:27:42] task [xgboost.dask-3]:tcp://127.0.0.1:50463 got new rank 3\n"
     ]
    },
    {
     "name": "stdout",
     "output_type": "stream",
     "text": [
      "[0]\tvalidation_0-mlogloss:1.74611\n",
      "[1]\tvalidation_0-mlogloss:1.46639\n",
      "[2]\tvalidation_0-mlogloss:1.28088\n",
      "[3]\tvalidation_0-mlogloss:1.14111\n",
      "[4]\tvalidation_0-mlogloss:1.03091\n",
      "[5]\tvalidation_0-mlogloss:0.93793\n",
      "[6]\tvalidation_0-mlogloss:0.85631\n",
      "[7]\tvalidation_0-mlogloss:0.78884\n",
      "[8]\tvalidation_0-mlogloss:0.73190\n",
      "[9]\tvalidation_0-mlogloss:0.68090\n",
      "[10]\tvalidation_0-mlogloss:0.63514\n",
      "[11]\tvalidation_0-mlogloss:0.59619\n",
      "[12]\tvalidation_0-mlogloss:0.55949\n",
      "[13]\tvalidation_0-mlogloss:0.52747\n",
      "[14]\tvalidation_0-mlogloss:0.49677\n",
      "[15]\tvalidation_0-mlogloss:0.46864\n",
      "[16]\tvalidation_0-mlogloss:0.44425\n",
      "[17]\tvalidation_0-mlogloss:0.42062\n",
      "[18]\tvalidation_0-mlogloss:0.39958\n",
      "[19]\tvalidation_0-mlogloss:0.38007\n"
     ]
    },
    {
     "name": "stderr",
     "output_type": "stream",
     "text": [
      "INFO:distributed.worker:Run out-of-band function '_start_tracker'\n",
      "[22:33:36] task [xgboost.dask-0]:tcp://127.0.0.1:50460 got new rank 0\n",
      "[22:33:36] task [xgboost.dask-1]:tcp://127.0.0.1:50462 got new rank 1\n",
      "[22:33:36] task [xgboost.dask-2]:tcp://127.0.0.1:50461 got new rank 2\n",
      "[22:33:36] task [xgboost.dask-3]:tcp://127.0.0.1:50463 got new rank 3\n"
     ]
    },
    {
     "name": "stdout",
     "output_type": "stream",
     "text": [
      "[0]\tvalidation_0-mlogloss:1.74611\n",
      "[1]\tvalidation_0-mlogloss:1.46640\n",
      "[2]\tvalidation_0-mlogloss:1.28109\n",
      "[3]\tvalidation_0-mlogloss:1.14153\n",
      "[4]\tvalidation_0-mlogloss:1.03072\n",
      "[5]\tvalidation_0-mlogloss:0.93727\n",
      "[6]\tvalidation_0-mlogloss:0.85563\n",
      "[7]\tvalidation_0-mlogloss:0.78904\n",
      "[8]\tvalidation_0-mlogloss:0.73005\n",
      "[9]\tvalidation_0-mlogloss:0.68060\n",
      "[10]\tvalidation_0-mlogloss:0.63433\n",
      "[11]\tvalidation_0-mlogloss:0.59448\n",
      "[12]\tvalidation_0-mlogloss:0.55933\n",
      "[13]\tvalidation_0-mlogloss:0.52542\n",
      "[14]\tvalidation_0-mlogloss:0.49585\n",
      "[15]\tvalidation_0-mlogloss:0.46881\n",
      "[16]\tvalidation_0-mlogloss:0.44489\n",
      "[17]\tvalidation_0-mlogloss:0.42239\n",
      "[18]\tvalidation_0-mlogloss:0.40114\n",
      "[19]\tvalidation_0-mlogloss:0.38174\n"
     ]
    },
    {
     "name": "stderr",
     "output_type": "stream",
     "text": [
      "INFO:distributed.worker:Run out-of-band function '_start_tracker'\n",
      "[23:39:22] task [xgboost.dask-0]:tcp://127.0.0.1:50460 got new rank 0\n",
      "[23:39:22] task [xgboost.dask-1]:tcp://127.0.0.1:50462 got new rank 1\n",
      "[23:39:22] task [xgboost.dask-2]:tcp://127.0.0.1:50461 got new rank 2\n",
      "[23:39:22] task [xgboost.dask-3]:tcp://127.0.0.1:50463 got new rank 3\n"
     ]
    },
    {
     "name": "stdout",
     "output_type": "stream",
     "text": [
      "[0]\tvalidation_0-mlogloss:1.74611\n",
      "[1]\tvalidation_0-mlogloss:1.46658\n",
      "[2]\tvalidation_0-mlogloss:1.28248\n",
      "[3]\tvalidation_0-mlogloss:1.14133\n",
      "[4]\tvalidation_0-mlogloss:1.03072\n",
      "[5]\tvalidation_0-mlogloss:0.93674\n",
      "[6]\tvalidation_0-mlogloss:0.85696\n",
      "[7]\tvalidation_0-mlogloss:0.79059\n",
      "[8]\tvalidation_0-mlogloss:0.72885\n",
      "[9]\tvalidation_0-mlogloss:0.67701\n",
      "[10]\tvalidation_0-mlogloss:0.63245\n",
      "[11]\tvalidation_0-mlogloss:0.59136\n",
      "[12]\tvalidation_0-mlogloss:0.55485\n",
      "[13]\tvalidation_0-mlogloss:0.52312\n",
      "[14]\tvalidation_0-mlogloss:0.49281\n",
      "[15]\tvalidation_0-mlogloss:0.46642\n",
      "[16]\tvalidation_0-mlogloss:0.44291\n",
      "[17]\tvalidation_0-mlogloss:0.41977\n",
      "[18]\tvalidation_0-mlogloss:0.39758\n",
      "[19]\tvalidation_0-mlogloss:0.37779\n"
     ]
    },
    {
     "name": "stderr",
     "output_type": "stream",
     "text": [
      "INFO:distributed.worker:Run out-of-band function '_start_tracker'\n",
      "[00:45:18] task [xgboost.dask-0]:tcp://127.0.0.1:50460 got new rank 0\n",
      "[00:45:18] task [xgboost.dask-1]:tcp://127.0.0.1:50462 got new rank 1\n",
      "[00:45:18] task [xgboost.dask-2]:tcp://127.0.0.1:50461 got new rank 2\n",
      "[00:45:18] task [xgboost.dask-3]:tcp://127.0.0.1:50463 got new rank 3\n"
     ]
    },
    {
     "name": "stdout",
     "output_type": "stream",
     "text": [
      "[0]\tvalidation_0-mlogloss:1.74609\n",
      "[1]\tvalidation_0-mlogloss:1.46660\n",
      "[2]\tvalidation_0-mlogloss:1.28146\n",
      "[3]\tvalidation_0-mlogloss:1.14202\n",
      "[4]\tvalidation_0-mlogloss:1.03196\n",
      "[5]\tvalidation_0-mlogloss:0.93887\n",
      "[6]\tvalidation_0-mlogloss:0.85821\n",
      "[7]\tvalidation_0-mlogloss:0.79046\n",
      "[8]\tvalidation_0-mlogloss:0.72982\n",
      "[9]\tvalidation_0-mlogloss:0.67939\n",
      "[10]\tvalidation_0-mlogloss:0.63436\n",
      "[11]\tvalidation_0-mlogloss:0.59387\n",
      "[12]\tvalidation_0-mlogloss:0.55850\n",
      "[13]\tvalidation_0-mlogloss:0.52482\n",
      "[14]\tvalidation_0-mlogloss:0.49564\n",
      "[15]\tvalidation_0-mlogloss:0.46813\n",
      "[16]\tvalidation_0-mlogloss:0.44403\n",
      "[17]\tvalidation_0-mlogloss:0.42026\n",
      "[18]\tvalidation_0-mlogloss:0.39910\n",
      "[19]\tvalidation_0-mlogloss:0.37855\n"
     ]
    },
    {
     "name": "stderr",
     "output_type": "stream",
     "text": [
      "INFO:distributed.worker:Run out-of-band function '_start_tracker'\n",
      "[01:50:44] task [xgboost.dask-0]:tcp://127.0.0.1:50460 got new rank 0\n",
      "[01:50:44] task [xgboost.dask-1]:tcp://127.0.0.1:50462 got new rank 1\n",
      "[01:50:44] task [xgboost.dask-2]:tcp://127.0.0.1:50461 got new rank 2\n",
      "[01:50:44] task [xgboost.dask-3]:tcp://127.0.0.1:50463 got new rank 3\n"
     ]
    },
    {
     "name": "stdout",
     "output_type": "stream",
     "text": [
      "[0]\tvalidation_0-mlogloss:1.74603\n",
      "[1]\tvalidation_0-mlogloss:1.46610\n",
      "[2]\tvalidation_0-mlogloss:1.28198\n",
      "[3]\tvalidation_0-mlogloss:1.14099\n",
      "[4]\tvalidation_0-mlogloss:1.03006\n",
      "[5]\tvalidation_0-mlogloss:0.93774\n",
      "[6]\tvalidation_0-mlogloss:0.85742\n",
      "[7]\tvalidation_0-mlogloss:0.78982\n",
      "[8]\tvalidation_0-mlogloss:0.73245\n",
      "[9]\tvalidation_0-mlogloss:0.68115\n",
      "[10]\tvalidation_0-mlogloss:0.63637\n",
      "[11]\tvalidation_0-mlogloss:0.59632\n",
      "[12]\tvalidation_0-mlogloss:0.55698\n",
      "[13]\tvalidation_0-mlogloss:0.52507\n",
      "[14]\tvalidation_0-mlogloss:0.49518\n",
      "[15]\tvalidation_0-mlogloss:0.46795\n",
      "[16]\tvalidation_0-mlogloss:0.44099\n",
      "[17]\tvalidation_0-mlogloss:0.42022\n",
      "[18]\tvalidation_0-mlogloss:0.39869\n",
      "[19]\tvalidation_0-mlogloss:0.38028\n"
     ]
    },
    {
     "name": "stderr",
     "output_type": "stream",
     "text": [
      "INFO:distributed.worker:Run out-of-band function '_start_tracker'\n",
      "[02:57:59] task [xgboost.dask-0]:tcp://127.0.0.1:50460 got new rank 0\n",
      "[02:57:59] task [xgboost.dask-1]:tcp://127.0.0.1:50462 got new rank 1\n",
      "[02:57:59] task [xgboost.dask-2]:tcp://127.0.0.1:50461 got new rank 2\n",
      "[02:57:59] task [xgboost.dask-3]:tcp://127.0.0.1:50463 got new rank 3\n"
     ]
    },
    {
     "name": "stdout",
     "output_type": "stream",
     "text": [
      "[0]\tvalidation_0-mlogloss:1.74609\n",
      "[1]\tvalidation_0-mlogloss:1.46661\n",
      "[2]\tvalidation_0-mlogloss:1.28151\n",
      "[3]\tvalidation_0-mlogloss:1.14217\n",
      "[4]\tvalidation_0-mlogloss:1.03221\n",
      "[5]\tvalidation_0-mlogloss:0.93922\n",
      "[6]\tvalidation_0-mlogloss:0.85860\n",
      "[7]\tvalidation_0-mlogloss:0.79090\n",
      "[8]\tvalidation_0-mlogloss:0.73060\n",
      "[9]\tvalidation_0-mlogloss:0.67836\n",
      "[10]\tvalidation_0-mlogloss:0.63408\n",
      "[11]\tvalidation_0-mlogloss:0.59241\n",
      "[12]\tvalidation_0-mlogloss:0.55667\n",
      "[13]\tvalidation_0-mlogloss:0.52292\n",
      "[14]\tvalidation_0-mlogloss:0.49395\n",
      "[15]\tvalidation_0-mlogloss:0.46705\n",
      "[16]\tvalidation_0-mlogloss:0.44316\n",
      "[17]\tvalidation_0-mlogloss:0.41936\n",
      "[18]\tvalidation_0-mlogloss:0.39719\n",
      "[19]\tvalidation_0-mlogloss:0.37855\n"
     ]
    },
    {
     "name": "stderr",
     "output_type": "stream",
     "text": [
      "INFO:distributed.worker:Run out-of-band function '_start_tracker'\n",
      "[04:04:49] task [xgboost.dask-0]:tcp://127.0.0.1:50460 got new rank 0\n",
      "[04:04:49] task [xgboost.dask-1]:tcp://127.0.0.1:50462 got new rank 1\n",
      "[04:04:49] task [xgboost.dask-2]:tcp://127.0.0.1:50461 got new rank 2\n",
      "[04:04:49] task [xgboost.dask-3]:tcp://127.0.0.1:50463 got new rank 3\n"
     ]
    },
    {
     "name": "stdout",
     "output_type": "stream",
     "text": [
      "[0]\tvalidation_0-mlogloss:1.74609\n",
      "[1]\tvalidation_0-mlogloss:1.46658\n",
      "[2]\tvalidation_0-mlogloss:1.28148\n",
      "[3]\tvalidation_0-mlogloss:1.14215\n",
      "[4]\tvalidation_0-mlogloss:1.03220\n",
      "[5]\tvalidation_0-mlogloss:0.93921\n",
      "[6]\tvalidation_0-mlogloss:0.85857\n",
      "[7]\tvalidation_0-mlogloss:0.79125\n",
      "[8]\tvalidation_0-mlogloss:0.73139\n",
      "[9]\tvalidation_0-mlogloss:0.67910\n",
      "[10]\tvalidation_0-mlogloss:0.63531\n",
      "[11]\tvalidation_0-mlogloss:0.59338\n",
      "[12]\tvalidation_0-mlogloss:0.55637\n",
      "[13]\tvalidation_0-mlogloss:0.52276\n",
      "[14]\tvalidation_0-mlogloss:0.49297\n",
      "[15]\tvalidation_0-mlogloss:0.46813\n",
      "[16]\tvalidation_0-mlogloss:0.44465\n",
      "[17]\tvalidation_0-mlogloss:0.42015\n",
      "[18]\tvalidation_0-mlogloss:0.39780\n",
      "[19]\tvalidation_0-mlogloss:0.37928\n"
     ]
    },
    {
     "name": "stderr",
     "output_type": "stream",
     "text": [
      "INFO:distributed.worker:Run out-of-band function '_start_tracker'\n",
      "[05:12:05] task [xgboost.dask-0]:tcp://127.0.0.1:50460 got new rank 0\n",
      "[05:12:05] task [xgboost.dask-1]:tcp://127.0.0.1:50462 got new rank 1\n",
      "[05:12:05] task [xgboost.dask-2]:tcp://127.0.0.1:50461 got new rank 2\n",
      "[05:12:05] task [xgboost.dask-3]:tcp://127.0.0.1:50463 got new rank 3\n"
     ]
    },
    {
     "name": "stdout",
     "output_type": "stream",
     "text": [
      "[0]\tvalidation_0-mlogloss:1.74602\n",
      "[1]\tvalidation_0-mlogloss:1.46708\n",
      "[2]\tvalidation_0-mlogloss:1.28155\n",
      "[3]\tvalidation_0-mlogloss:1.14208\n",
      "[4]\tvalidation_0-mlogloss:1.03259\n",
      "[5]\tvalidation_0-mlogloss:0.93936\n",
      "[6]\tvalidation_0-mlogloss:0.86011\n",
      "[7]\tvalidation_0-mlogloss:0.79050\n",
      "[8]\tvalidation_0-mlogloss:0.73099\n",
      "[9]\tvalidation_0-mlogloss:0.67926\n",
      "[10]\tvalidation_0-mlogloss:0.63457\n",
      "[11]\tvalidation_0-mlogloss:0.59494\n",
      "[12]\tvalidation_0-mlogloss:0.55662\n",
      "[13]\tvalidation_0-mlogloss:0.52518\n",
      "[14]\tvalidation_0-mlogloss:0.49518\n",
      "[15]\tvalidation_0-mlogloss:0.46685\n",
      "[16]\tvalidation_0-mlogloss:0.44404\n",
      "[17]\tvalidation_0-mlogloss:0.42044\n",
      "[18]\tvalidation_0-mlogloss:0.39921\n",
      "[19]\tvalidation_0-mlogloss:0.38116\n"
     ]
    },
    {
     "name": "stderr",
     "output_type": "stream",
     "text": [
      "INFO:distributed.worker:Run out-of-band function '_start_tracker'\n",
      "[06:18:35] task [xgboost.dask-0]:tcp://127.0.0.1:50460 got new rank 0\n",
      "[06:18:35] task [xgboost.dask-1]:tcp://127.0.0.1:50462 got new rank 1\n",
      "[06:18:35] task [xgboost.dask-2]:tcp://127.0.0.1:50461 got new rank 2\n",
      "[06:18:35] task [xgboost.dask-3]:tcp://127.0.0.1:50463 got new rank 3\n"
     ]
    },
    {
     "name": "stdout",
     "output_type": "stream",
     "text": [
      "[0]\tvalidation_0-mlogloss:1.74618\n",
      "[1]\tvalidation_0-mlogloss:1.46667\n",
      "[2]\tvalidation_0-mlogloss:1.28151\n",
      "[3]\tvalidation_0-mlogloss:1.14216\n",
      "[4]\tvalidation_0-mlogloss:1.03223\n",
      "[5]\tvalidation_0-mlogloss:0.93945\n",
      "[6]\tvalidation_0-mlogloss:0.85834\n",
      "[7]\tvalidation_0-mlogloss:0.79157\n",
      "[8]\tvalidation_0-mlogloss:0.73134\n",
      "[9]\tvalidation_0-mlogloss:0.68013\n",
      "[10]\tvalidation_0-mlogloss:0.63369\n",
      "[11]\tvalidation_0-mlogloss:0.59512\n",
      "[12]\tvalidation_0-mlogloss:0.55766\n",
      "[13]\tvalidation_0-mlogloss:0.52599\n",
      "[14]\tvalidation_0-mlogloss:0.49717\n",
      "[15]\tvalidation_0-mlogloss:0.46925\n",
      "[16]\tvalidation_0-mlogloss:0.44547\n",
      "[17]\tvalidation_0-mlogloss:0.42201\n",
      "[18]\tvalidation_0-mlogloss:0.40039\n",
      "[19]\tvalidation_0-mlogloss:0.38096\n"
     ]
    },
    {
     "name": "stderr",
     "output_type": "stream",
     "text": [
      "INFO:distributed.worker:Run out-of-band function '_start_tracker'\n",
      "[07:25:20] task [xgboost.dask-0]:tcp://127.0.0.1:50460 got new rank 0\n",
      "[07:25:20] task [xgboost.dask-1]:tcp://127.0.0.1:50462 got new rank 1\n",
      "[07:25:20] task [xgboost.dask-2]:tcp://127.0.0.1:50461 got new rank 2\n",
      "[07:25:20] task [xgboost.dask-3]:tcp://127.0.0.1:50463 got new rank 3\n"
     ]
    },
    {
     "name": "stdout",
     "output_type": "stream",
     "text": [
      "[0]\tvalidation_0-mlogloss:1.74602\n",
      "[1]\tvalidation_0-mlogloss:1.46632\n",
      "[2]\tvalidation_0-mlogloss:1.28108\n",
      "[3]\tvalidation_0-mlogloss:1.14140\n",
      "[4]\tvalidation_0-mlogloss:1.03046\n",
      "[5]\tvalidation_0-mlogloss:0.93741\n",
      "[6]\tvalidation_0-mlogloss:0.85574\n",
      "[7]\tvalidation_0-mlogloss:0.78923\n",
      "[8]\tvalidation_0-mlogloss:0.73108\n",
      "[9]\tvalidation_0-mlogloss:0.68026\n",
      "[10]\tvalidation_0-mlogloss:0.63351\n",
      "[11]\tvalidation_0-mlogloss:0.59207\n",
      "[12]\tvalidation_0-mlogloss:0.55823\n",
      "[13]\tvalidation_0-mlogloss:0.52564\n",
      "[14]\tvalidation_0-mlogloss:0.49583\n",
      "[15]\tvalidation_0-mlogloss:0.46921\n",
      "[16]\tvalidation_0-mlogloss:0.44388\n",
      "[17]\tvalidation_0-mlogloss:0.42218\n",
      "[18]\tvalidation_0-mlogloss:0.40125\n",
      "[19]\tvalidation_0-mlogloss:0.38050\n"
     ]
    },
    {
     "name": "stderr",
     "output_type": "stream",
     "text": [
      "INFO:distributed.worker:Run out-of-band function '_start_tracker'\n",
      "[08:32:52] task [xgboost.dask-0]:tcp://127.0.0.1:50460 got new rank 0\n",
      "[08:32:52] task [xgboost.dask-1]:tcp://127.0.0.1:50462 got new rank 1\n",
      "[08:32:52] task [xgboost.dask-2]:tcp://127.0.0.1:50461 got new rank 2\n",
      "[08:32:52] task [xgboost.dask-3]:tcp://127.0.0.1:50463 got new rank 3\n"
     ]
    },
    {
     "name": "stdout",
     "output_type": "stream",
     "text": [
      "[0]\tvalidation_0-mlogloss:1.74609\n",
      "[1]\tvalidation_0-mlogloss:1.46661\n",
      "[2]\tvalidation_0-mlogloss:1.28151\n",
      "[3]\tvalidation_0-mlogloss:1.14217\n",
      "[4]\tvalidation_0-mlogloss:1.03221\n",
      "[5]\tvalidation_0-mlogloss:0.93922\n",
      "[6]\tvalidation_0-mlogloss:0.85854\n",
      "[7]\tvalidation_0-mlogloss:0.79127\n",
      "[8]\tvalidation_0-mlogloss:0.73143\n",
      "[9]\tvalidation_0-mlogloss:0.67972\n",
      "[10]\tvalidation_0-mlogloss:0.63453\n",
      "[11]\tvalidation_0-mlogloss:0.59284\n",
      "[12]\tvalidation_0-mlogloss:0.55506\n",
      "[13]\tvalidation_0-mlogloss:0.52305\n",
      "[14]\tvalidation_0-mlogloss:0.49410\n",
      "[15]\tvalidation_0-mlogloss:0.46718\n",
      "[16]\tvalidation_0-mlogloss:0.44189\n",
      "[17]\tvalidation_0-mlogloss:0.41910\n",
      "[18]\tvalidation_0-mlogloss:0.39825\n",
      "[19]\tvalidation_0-mlogloss:0.37947\n"
     ]
    },
    {
     "name": "stderr",
     "output_type": "stream",
     "text": [
      "INFO:distributed.worker:Run out-of-band function '_start_tracker'\n",
      "[09:40:18] task [xgboost.dask-0]:tcp://127.0.0.1:50460 got new rank 0\n",
      "[09:40:18] task [xgboost.dask-1]:tcp://127.0.0.1:50462 got new rank 1\n",
      "[09:40:18] task [xgboost.dask-2]:tcp://127.0.0.1:50461 got new rank 2\n",
      "[09:40:18] task [xgboost.dask-3]:tcp://127.0.0.1:50463 got new rank 3\n"
     ]
    },
    {
     "name": "stdout",
     "output_type": "stream",
     "text": [
      "[0]\tvalidation_0-mlogloss:1.74602\n",
      "[1]\tvalidation_0-mlogloss:1.46632\n",
      "[2]\tvalidation_0-mlogloss:1.28108\n",
      "[3]\tvalidation_0-mlogloss:1.14154\n",
      "[4]\tvalidation_0-mlogloss:1.03058\n",
      "[5]\tvalidation_0-mlogloss:0.93754\n",
      "[6]\tvalidation_0-mlogloss:0.85593\n",
      "[7]\tvalidation_0-mlogloss:0.78924\n",
      "[8]\tvalidation_0-mlogloss:0.73154\n",
      "[9]\tvalidation_0-mlogloss:0.67956\n",
      "[10]\tvalidation_0-mlogloss:0.63452\n",
      "[11]\tvalidation_0-mlogloss:0.59504\n",
      "[12]\tvalidation_0-mlogloss:0.55880\n",
      "[13]\tvalidation_0-mlogloss:0.52631\n",
      "[14]\tvalidation_0-mlogloss:0.49671\n",
      "[15]\tvalidation_0-mlogloss:0.47155\n",
      "[16]\tvalidation_0-mlogloss:0.44455\n",
      "[17]\tvalidation_0-mlogloss:0.42178\n",
      "[18]\tvalidation_0-mlogloss:0.39877\n",
      "[19]\tvalidation_0-mlogloss:0.37933\n"
     ]
    },
    {
     "name": "stderr",
     "output_type": "stream",
     "text": [
      "INFO:distributed.worker:Run out-of-band function '_start_tracker'\n",
      "[10:49:39] task [xgboost.dask-0]:tcp://127.0.0.1:50460 got new rank 0\n",
      "[10:49:39] task [xgboost.dask-1]:tcp://127.0.0.1:50462 got new rank 1\n",
      "[10:49:39] task [xgboost.dask-2]:tcp://127.0.0.1:50461 got new rank 2\n",
      "[10:49:39] task [xgboost.dask-3]:tcp://127.0.0.1:50463 got new rank 3\n"
     ]
    },
    {
     "name": "stdout",
     "output_type": "stream",
     "text": [
      "[0]\tvalidation_0-mlogloss:1.74609\n",
      "[1]\tvalidation_0-mlogloss:1.46661\n",
      "[2]\tvalidation_0-mlogloss:1.28151\n",
      "[3]\tvalidation_0-mlogloss:1.14217\n",
      "[4]\tvalidation_0-mlogloss:1.03220\n",
      "[5]\tvalidation_0-mlogloss:0.93921\n",
      "[6]\tvalidation_0-mlogloss:0.85859\n",
      "[7]\tvalidation_0-mlogloss:0.79129\n",
      "[8]\tvalidation_0-mlogloss:0.73141\n",
      "[9]\tvalidation_0-mlogloss:0.67938\n",
      "[10]\tvalidation_0-mlogloss:0.63483\n",
      "[11]\tvalidation_0-mlogloss:0.59346\n",
      "[12]\tvalidation_0-mlogloss:0.55695\n",
      "[13]\tvalidation_0-mlogloss:0.52399\n",
      "[14]\tvalidation_0-mlogloss:0.49426\n",
      "[15]\tvalidation_0-mlogloss:0.46750\n",
      "[16]\tvalidation_0-mlogloss:0.44448\n",
      "[17]\tvalidation_0-mlogloss:0.42046\n",
      "[18]\tvalidation_0-mlogloss:0.40012\n",
      "[19]\tvalidation_0-mlogloss:0.38084\n"
     ]
    },
    {
     "name": "stderr",
     "output_type": "stream",
     "text": [
      "INFO:distributed.worker:Run out-of-band function '_start_tracker'\n",
      "[11:59:42] task [xgboost.dask-0]:tcp://127.0.0.1:50460 got new rank 0\n",
      "[11:59:42] task [xgboost.dask-1]:tcp://127.0.0.1:50462 got new rank 1\n",
      "[11:59:42] task [xgboost.dask-2]:tcp://127.0.0.1:50461 got new rank 2\n",
      "[11:59:42] task [xgboost.dask-3]:tcp://127.0.0.1:50463 got new rank 3\n"
     ]
    },
    {
     "name": "stdout",
     "output_type": "stream",
     "text": [
      "[0]\tvalidation_0-mlogloss:1.74602\n",
      "[1]\tvalidation_0-mlogloss:1.46632\n",
      "[2]\tvalidation_0-mlogloss:1.28107\n",
      "[3]\tvalidation_0-mlogloss:1.14152\n",
      "[4]\tvalidation_0-mlogloss:1.03056\n",
      "[5]\tvalidation_0-mlogloss:0.93752\n",
      "[6]\tvalidation_0-mlogloss:0.85591\n",
      "[7]\tvalidation_0-mlogloss:0.78922\n",
      "[8]\tvalidation_0-mlogloss:0.73152\n",
      "[9]\tvalidation_0-mlogloss:0.67954\n",
      "[10]\tvalidation_0-mlogloss:0.63444\n",
      "[11]\tvalidation_0-mlogloss:0.59495\n",
      "[12]\tvalidation_0-mlogloss:0.55825\n",
      "[13]\tvalidation_0-mlogloss:0.52612\n",
      "[14]\tvalidation_0-mlogloss:0.49592\n",
      "[15]\tvalidation_0-mlogloss:0.47099\n",
      "[16]\tvalidation_0-mlogloss:0.44578\n",
      "[17]\tvalidation_0-mlogloss:0.42211\n",
      "[18]\tvalidation_0-mlogloss:0.39992\n",
      "[19]\tvalidation_0-mlogloss:0.38077\n"
     ]
    },
    {
     "name": "stderr",
     "output_type": "stream",
     "text": [
      "INFO:distributed.worker:Run out-of-band function '_start_tracker'\n",
      "[13:15:48] task [xgboost.dask-0]:tcp://127.0.0.1:50460 got new rank 0\n",
      "[13:15:48] task [xgboost.dask-1]:tcp://127.0.0.1:50462 got new rank 1\n",
      "[13:15:48] task [xgboost.dask-2]:tcp://127.0.0.1:50461 got new rank 2\n",
      "[13:15:48] task [xgboost.dask-3]:tcp://127.0.0.1:50463 got new rank 3\n"
     ]
    },
    {
     "name": "stdout",
     "output_type": "stream",
     "text": [
      "[0]\tvalidation_0-mlogloss:1.74611\n",
      "[1]\tvalidation_0-mlogloss:1.46712\n",
      "[2]\tvalidation_0-mlogloss:1.28071\n",
      "[3]\tvalidation_0-mlogloss:1.14153\n",
      "[4]\tvalidation_0-mlogloss:1.03016\n",
      "[5]\tvalidation_0-mlogloss:0.93735\n",
      "[6]\tvalidation_0-mlogloss:0.85690\n",
      "[7]\tvalidation_0-mlogloss:0.78930\n",
      "[8]\tvalidation_0-mlogloss:0.73254\n",
      "[9]\tvalidation_0-mlogloss:0.67893\n",
      "[10]\tvalidation_0-mlogloss:0.63372\n",
      "[11]\tvalidation_0-mlogloss:0.59383\n",
      "[12]\tvalidation_0-mlogloss:0.55631\n",
      "[13]\tvalidation_0-mlogloss:0.52308\n",
      "[14]\tvalidation_0-mlogloss:0.49424\n",
      "[15]\tvalidation_0-mlogloss:0.46672\n",
      "[16]\tvalidation_0-mlogloss:0.44170\n",
      "[17]\tvalidation_0-mlogloss:0.41939\n",
      "[18]\tvalidation_0-mlogloss:0.39861\n",
      "[19]\tvalidation_0-mlogloss:0.37882\n"
     ]
    },
    {
     "name": "stderr",
     "output_type": "stream",
     "text": [
      "INFO:distributed.worker:Run out-of-band function '_start_tracker'\n",
      "[14:28:02] task [xgboost.dask-0]:tcp://127.0.0.1:50460 got new rank 0\n",
      "[14:28:02] task [xgboost.dask-1]:tcp://127.0.0.1:50462 got new rank 1\n",
      "[14:28:02] task [xgboost.dask-2]:tcp://127.0.0.1:50461 got new rank 2\n",
      "[14:28:02] task [xgboost.dask-3]:tcp://127.0.0.1:50463 got new rank 3\n"
     ]
    },
    {
     "name": "stdout",
     "output_type": "stream",
     "text": [
      "[0]\tvalidation_0-mlogloss:1.74602\n",
      "[1]\tvalidation_0-mlogloss:1.46632\n",
      "[2]\tvalidation_0-mlogloss:1.28110\n",
      "[3]\tvalidation_0-mlogloss:1.14126\n",
      "[4]\tvalidation_0-mlogloss:1.03073\n",
      "[5]\tvalidation_0-mlogloss:0.93767\n",
      "[6]\tvalidation_0-mlogloss:0.85637\n",
      "[7]\tvalidation_0-mlogloss:0.78971\n",
      "[8]\tvalidation_0-mlogloss:0.73213\n",
      "[9]\tvalidation_0-mlogloss:0.68026\n",
      "[10]\tvalidation_0-mlogloss:0.63439\n",
      "[11]\tvalidation_0-mlogloss:0.59479\n",
      "[12]\tvalidation_0-mlogloss:0.56051\n",
      "[13]\tvalidation_0-mlogloss:0.52936\n",
      "[14]\tvalidation_0-mlogloss:0.49933\n",
      "[15]\tvalidation_0-mlogloss:0.47230\n",
      "[16]\tvalidation_0-mlogloss:0.44714\n",
      "[17]\tvalidation_0-mlogloss:0.42333\n",
      "[18]\tvalidation_0-mlogloss:0.40284\n",
      "[19]\tvalidation_0-mlogloss:0.38455\n"
     ]
    },
    {
     "name": "stderr",
     "output_type": "stream",
     "text": [
      "INFO:distributed.worker:Run out-of-band function '_start_tracker'\n",
      "[15:34:57] task [xgboost.dask-0]:tcp://127.0.0.1:50460 got new rank 0\n",
      "[15:34:57] task [xgboost.dask-1]:tcp://127.0.0.1:50462 got new rank 1\n",
      "[15:34:57] task [xgboost.dask-2]:tcp://127.0.0.1:50461 got new rank 2\n",
      "[15:34:57] task [xgboost.dask-3]:tcp://127.0.0.1:50463 got new rank 3\n"
     ]
    },
    {
     "name": "stdout",
     "output_type": "stream",
     "text": [
      "[0]\tvalidation_0-mlogloss:1.74602\n",
      "[1]\tvalidation_0-mlogloss:1.46632\n",
      "[2]\tvalidation_0-mlogloss:1.28108\n",
      "[3]\tvalidation_0-mlogloss:1.14124\n",
      "[4]\tvalidation_0-mlogloss:1.03072\n",
      "[5]\tvalidation_0-mlogloss:0.93765\n",
      "[6]\tvalidation_0-mlogloss:0.85635\n",
      "[7]\tvalidation_0-mlogloss:0.78937\n",
      "[8]\tvalidation_0-mlogloss:0.73201\n",
      "[9]\tvalidation_0-mlogloss:0.67904\n",
      "[10]\tvalidation_0-mlogloss:0.63362\n",
      "[11]\tvalidation_0-mlogloss:0.59322\n",
      "[12]\tvalidation_0-mlogloss:0.55844\n",
      "[13]\tvalidation_0-mlogloss:0.52645\n",
      "[14]\tvalidation_0-mlogloss:0.49616\n",
      "[15]\tvalidation_0-mlogloss:0.46875\n",
      "[16]\tvalidation_0-mlogloss:0.44458\n",
      "[17]\tvalidation_0-mlogloss:0.42135\n",
      "[18]\tvalidation_0-mlogloss:0.40052\n",
      "[19]\tvalidation_0-mlogloss:0.38096\n"
     ]
    },
    {
     "name": "stderr",
     "output_type": "stream",
     "text": [
      "INFO:distributed.worker:Run out-of-band function '_start_tracker'\n",
      "[16:40:00] task [xgboost.dask-0]:tcp://127.0.0.1:50460 got new rank 0\n",
      "[16:40:00] task [xgboost.dask-1]:tcp://127.0.0.1:50462 got new rank 1\n",
      "[16:40:00] task [xgboost.dask-2]:tcp://127.0.0.1:50461 got new rank 2\n",
      "[16:40:00] task [xgboost.dask-3]:tcp://127.0.0.1:50463 got new rank 3\n"
     ]
    },
    {
     "name": "stdout",
     "output_type": "stream",
     "text": [
      "[0]\tvalidation_0-mlogloss:1.74618\n",
      "[1]\tvalidation_0-mlogloss:1.46663\n",
      "[2]\tvalidation_0-mlogloss:1.28148\n",
      "[3]\tvalidation_0-mlogloss:1.14215\n",
      "[4]\tvalidation_0-mlogloss:1.03222\n",
      "[5]\tvalidation_0-mlogloss:0.93946\n",
      "[6]\tvalidation_0-mlogloss:0.85816\n",
      "[7]\tvalidation_0-mlogloss:0.79097\n",
      "[8]\tvalidation_0-mlogloss:0.73069\n",
      "[9]\tvalidation_0-mlogloss:0.67893\n",
      "[10]\tvalidation_0-mlogloss:0.63358\n",
      "[11]\tvalidation_0-mlogloss:0.59332\n",
      "[12]\tvalidation_0-mlogloss:0.55523\n",
      "[13]\tvalidation_0-mlogloss:0.52352\n",
      "[14]\tvalidation_0-mlogloss:0.49417\n",
      "[15]\tvalidation_0-mlogloss:0.46663\n",
      "[16]\tvalidation_0-mlogloss:0.44258\n",
      "[17]\tvalidation_0-mlogloss:0.41883\n",
      "[18]\tvalidation_0-mlogloss:0.39897\n",
      "[19]\tvalidation_0-mlogloss:0.38024\n"
     ]
    },
    {
     "name": "stderr",
     "output_type": "stream",
     "text": [
      "INFO:distributed.worker:Run out-of-band function '_start_tracker'\n",
      "[17:50:04] task [xgboost.dask-0]:tcp://127.0.0.1:50460 got new rank 0\n",
      "[17:50:04] task [xgboost.dask-1]:tcp://127.0.0.1:50462 got new rank 1\n",
      "[17:50:04] task [xgboost.dask-2]:tcp://127.0.0.1:50461 got new rank 2\n",
      "[17:50:04] task [xgboost.dask-3]:tcp://127.0.0.1:50463 got new rank 3\n"
     ]
    },
    {
     "name": "stdout",
     "output_type": "stream",
     "text": [
      "[0]\tvalidation_0-mlogloss:1.74609\n",
      "[1]\tvalidation_0-mlogloss:1.46658\n",
      "[2]\tvalidation_0-mlogloss:1.28151\n",
      "[3]\tvalidation_0-mlogloss:1.14185\n",
      "[4]\tvalidation_0-mlogloss:1.03142\n",
      "[5]\tvalidation_0-mlogloss:0.93673\n",
      "[6]\tvalidation_0-mlogloss:0.85792\n",
      "[7]\tvalidation_0-mlogloss:0.78913\n",
      "[8]\tvalidation_0-mlogloss:0.73047\n",
      "[9]\tvalidation_0-mlogloss:0.67965\n",
      "[10]\tvalidation_0-mlogloss:0.63508\n",
      "[11]\tvalidation_0-mlogloss:0.59519\n",
      "[12]\tvalidation_0-mlogloss:0.55865\n",
      "[13]\tvalidation_0-mlogloss:0.52588\n",
      "[14]\tvalidation_0-mlogloss:0.49742\n",
      "[15]\tvalidation_0-mlogloss:0.46978\n",
      "[16]\tvalidation_0-mlogloss:0.44402\n",
      "[17]\tvalidation_0-mlogloss:0.42049\n",
      "[18]\tvalidation_0-mlogloss:0.39913\n",
      "[19]\tvalidation_0-mlogloss:0.38028\n"
     ]
    },
    {
     "name": "stderr",
     "output_type": "stream",
     "text": [
      "INFO:distributed.worker:Run out-of-band function '_start_tracker'\n",
      "[18:55:26] task [xgboost.dask-0]:tcp://127.0.0.1:50460 got new rank 0\n",
      "[18:55:26] task [xgboost.dask-1]:tcp://127.0.0.1:50462 got new rank 1\n",
      "[18:55:26] task [xgboost.dask-2]:tcp://127.0.0.1:50461 got new rank 2\n",
      "[18:55:26] task [xgboost.dask-3]:tcp://127.0.0.1:50463 got new rank 3\n"
     ]
    },
    {
     "name": "stdout",
     "output_type": "stream",
     "text": [
      "[0]\tvalidation_0-mlogloss:1.74618\n",
      "[1]\tvalidation_0-mlogloss:1.46667\n",
      "[2]\tvalidation_0-mlogloss:1.28153\n",
      "[3]\tvalidation_0-mlogloss:1.14218\n",
      "[4]\tvalidation_0-mlogloss:1.03225\n",
      "[5]\tvalidation_0-mlogloss:0.93946\n",
      "[6]\tvalidation_0-mlogloss:0.85900\n",
      "[7]\tvalidation_0-mlogloss:0.79167\n",
      "[8]\tvalidation_0-mlogloss:0.73169\n",
      "[9]\tvalidation_0-mlogloss:0.68014\n",
      "[10]\tvalidation_0-mlogloss:0.63389\n",
      "[11]\tvalidation_0-mlogloss:0.59460\n",
      "[12]\tvalidation_0-mlogloss:0.55853\n",
      "[13]\tvalidation_0-mlogloss:0.52624\n",
      "[14]\tvalidation_0-mlogloss:0.49722\n",
      "[15]\tvalidation_0-mlogloss:0.47082\n",
      "[16]\tvalidation_0-mlogloss:0.44629\n",
      "[17]\tvalidation_0-mlogloss:0.42270\n",
      "[18]\tvalidation_0-mlogloss:0.40134\n",
      "[19]\tvalidation_0-mlogloss:0.38143\n"
     ]
    },
    {
     "name": "stderr",
     "output_type": "stream",
     "text": [
      "INFO:distributed.scheduler:Remove client Client-3fda8fa8-b171-11ed-877f-3267941770bc\n",
      "INFO:distributed.core:Received 'close-stream' from tcp://127.0.0.1:50472; closing.\n",
      "INFO:distributed.scheduler:Remove client Client-3fda8fa8-b171-11ed-877f-3267941770bc\n",
      "INFO:distributed.scheduler:Close client connection: Client-3fda8fa8-b171-11ed-877f-3267941770bc\n",
      "INFO:distributed.nanny:Closing Nanny at 'tcp://127.0.0.1:50452'. Reason: nanny-close\n",
      "INFO:distributed.nanny:Nanny asking worker to close. Reason: nanny-close\n",
      "INFO:distributed.nanny:Closing Nanny at 'tcp://127.0.0.1:50453'. Reason: nanny-close\n",
      "INFO:distributed.nanny:Nanny asking worker to close. Reason: nanny-close\n",
      "INFO:distributed.nanny:Closing Nanny at 'tcp://127.0.0.1:50454'. Reason: nanny-close\n",
      "INFO:distributed.nanny:Nanny asking worker to close. Reason: nanny-close\n",
      "INFO:distributed.nanny:Closing Nanny at 'tcp://127.0.0.1:50455'. Reason: nanny-close\n",
      "INFO:distributed.nanny:Nanny asking worker to close. Reason: nanny-close\n",
      "INFO:distributed.scheduler:Remove client Client-worker-4118045e-b171-11ed-87a4-3267941770bc\n",
      "INFO:distributed.core:Received 'close-stream' from tcp://127.0.0.1:50485; closing.\n",
      "INFO:distributed.scheduler:Remove client Client-worker-41180710-b171-11ed-87a5-3267941770bc\n",
      "INFO:distributed.core:Received 'close-stream' from tcp://127.0.0.1:50487; closing.\n",
      "INFO:distributed.scheduler:Remove client Client-worker-4118045e-b171-11ed-87a4-3267941770bc\n",
      "INFO:distributed.scheduler:Remove client Client-worker-41180710-b171-11ed-87a5-3267941770bc\n",
      "INFO:distributed.scheduler:Remove client Client-worker-4118068e-b171-11ed-87a6-3267941770bc\n",
      "INFO:distributed.core:Received 'close-stream' from tcp://127.0.0.1:50486; closing.\n",
      "INFO:distributed.scheduler:Remove client Client-worker-4118068e-b171-11ed-87a6-3267941770bc\n",
      "INFO:distributed.scheduler:Remove client Client-worker-411801a2-b171-11ed-87a7-3267941770bc\n",
      "INFO:distributed.core:Received 'close-stream' from tcp://127.0.0.1:50484; closing.\n",
      "INFO:distributed.scheduler:Remove client Client-worker-411801a2-b171-11ed-87a7-3267941770bc\n",
      "INFO:distributed.core:Received 'close-stream' from tcp://127.0.0.1:50467; closing.\n",
      "INFO:distributed.core:Received 'close-stream' from tcp://127.0.0.1:50468; closing.\n",
      "INFO:distributed.scheduler:Close client connection: Client-worker-4118045e-b171-11ed-87a4-3267941770bc\n",
      "INFO:distributed.scheduler:Close client connection: Client-worker-41180710-b171-11ed-87a5-3267941770bc\n",
      "INFO:distributed.scheduler:Remove worker <WorkerState 'tcp://127.0.0.1:50462', name: 1, status: closing, memory: 0, processing: 0>\n",
      "INFO:distributed.core:Removing comms to tcp://127.0.0.1:50462\n",
      "INFO:distributed.scheduler:Remove worker <WorkerState 'tcp://127.0.0.1:50460', name: 0, status: closing, memory: 0, processing: 0>\n",
      "INFO:distributed.core:Removing comms to tcp://127.0.0.1:50460\n",
      "INFO:distributed.scheduler:Close client connection: Client-worker-4118068e-b171-11ed-87a6-3267941770bc\n",
      "INFO:distributed.core:Received 'close-stream' from tcp://127.0.0.1:50469; closing.\n",
      "INFO:distributed.core:Received 'close-stream' from tcp://127.0.0.1:50471; closing.\n",
      "INFO:distributed.scheduler:Close client connection: Client-worker-411801a2-b171-11ed-87a7-3267941770bc\n",
      "INFO:distributed.scheduler:Remove worker <WorkerState 'tcp://127.0.0.1:50461', name: 2, status: closing, memory: 0, processing: 0>\n",
      "INFO:distributed.core:Removing comms to tcp://127.0.0.1:50461\n",
      "INFO:distributed.scheduler:Remove worker <WorkerState 'tcp://127.0.0.1:50463', name: 3, status: closing, memory: 0, processing: 0>\n",
      "INFO:distributed.core:Removing comms to tcp://127.0.0.1:50463\n",
      "INFO:distributed.scheduler:Lost all workers\n",
      "INFO:distributed.scheduler:Scheduler closing...\n",
      "INFO:distributed.scheduler:Scheduler closing all comms\n"
     ]
    }
   ],
   "source": [
    "if __name__ == \"__main__\":\n",
    "    \n",
    "    num_exp = 50\n",
    "\n",
    "    all_exps = []\n",
    "    exp_time = []\n",
    "    exp_score = []\n",
    "    experiment_dict ={}\n",
    "    experiment_dict[\"method\"] = f\"Dask workers=4\"   \n",
    "\n",
    "    X, y = load_data()\n",
    "    \n",
    "    with LocalCluster() as cluster:\n",
    "        with Client(cluster) as client:\n",
    "            for i in repeat(1, num_exp):\n",
    "                start = time.time()\n",
    "                main(X, y, client)\n",
    "                end = time.time()\n",
    "                exp_time.append(end-start)\n",
    "\n",
    "    experiment_dict[\"time_result\"] = exp_time\n",
    "    all_exps.append(experiment_dict)\n"
   ]
  },
  {
   "cell_type": "markdown",
   "id": "1271a147-12f2-494e-87b5-1273a4913545",
   "metadata": {},
   "source": [
    "# Visualize result"
   ]
  },
  {
   "cell_type": "code",
   "execution_count": null,
   "id": "75b778ca",
   "metadata": {},
   "outputs": [],
   "source": []
  },
  {
   "cell_type": "code",
   "execution_count": 7,
   "id": "2d174132",
   "metadata": {},
   "outputs": [],
   "source": [
    "# if you ran the notebook\n",
    "df_result_local = pd.DataFrame(all_exps).set_index(\"method\")\n",
    "df_result_local = df_result.reset_index()"
   ]
  },
  {
   "cell_type": "code",
   "execution_count": 15,
   "id": "2e021486",
   "metadata": {},
   "outputs": [],
   "source": [
    "df_result_local['time_result_avg'] = df_result_local['time_result'].apply(lambda x: np.mean(x))"
   ]
  },
  {
   "cell_type": "code",
   "execution_count": 16,
   "id": "d4e5e7d6",
   "metadata": {},
   "outputs": [
    {
     "data": {
      "text/html": [
       "<div>\n",
       "<style scoped>\n",
       "    .dataframe tbody tr th:only-of-type {\n",
       "        vertical-align: middle;\n",
       "    }\n",
       "\n",
       "    .dataframe tbody tr th {\n",
       "        vertical-align: top;\n",
       "    }\n",
       "\n",
       "    .dataframe thead th {\n",
       "        text-align: right;\n",
       "    }\n",
       "</style>\n",
       "<table border=\"1\" class=\"dataframe\">\n",
       "  <thead>\n",
       "    <tr style=\"text-align: right;\">\n",
       "      <th></th>\n",
       "      <th>index</th>\n",
       "      <th>method</th>\n",
       "      <th>time_result</th>\n",
       "      <th>time_result_avg</th>\n",
       "    </tr>\n",
       "  </thead>\n",
       "  <tbody>\n",
       "    <tr>\n",
       "      <th>0</th>\n",
       "      <td>0</td>\n",
       "      <td>Dask workers=4</td>\n",
       "      <td>[4076.7535820007324, 3960.8836460113525, 3970....</td>\n",
       "      <td>4054.229888</td>\n",
       "    </tr>\n",
       "  </tbody>\n",
       "</table>\n",
       "</div>"
      ],
      "text/plain": [
       "   index          method                                        time_result  \\\n",
       "0      0  Dask workers=4  [4076.7535820007324, 3960.8836460113525, 3970....   \n",
       "\n",
       "   time_result_avg  \n",
       "0      4054.229888  "
      ]
     },
     "execution_count": 16,
     "metadata": {},
     "output_type": "execute_result"
    }
   ],
   "source": [
    "df_result_local"
   ]
  },
  {
   "cell_type": "code",
   "execution_count": 17,
   "id": "b8faed2b-4abd-4793-9166-50463c642052",
   "metadata": {},
   "outputs": [],
   "source": [
    "# if you are loading the result dataframe from file\n",
    "import ast\n",
    "\n",
    "df_result = pd.read_csv('../output/df_result_joblib_ray_29012023.csv')\n",
    "df_result['time_result'] = df_result['time_result'].apply(lambda x: ast.literal_eval(x))"
   ]
  },
  {
   "cell_type": "code",
   "execution_count": 18,
   "id": "6a94462d",
   "metadata": {},
   "outputs": [
    {
     "data": {
      "text/html": [
       "<div>\n",
       "<style scoped>\n",
       "    .dataframe tbody tr th:only-of-type {\n",
       "        vertical-align: middle;\n",
       "    }\n",
       "\n",
       "    .dataframe tbody tr th {\n",
       "        vertical-align: top;\n",
       "    }\n",
       "\n",
       "    .dataframe thead th {\n",
       "        text-align: right;\n",
       "    }\n",
       "</style>\n",
       "<table border=\"1\" class=\"dataframe\">\n",
       "  <thead>\n",
       "    <tr style=\"text-align: right;\">\n",
       "      <th></th>\n",
       "      <th>index</th>\n",
       "      <th>method</th>\n",
       "      <th>time_result</th>\n",
       "      <th>time_result_avg</th>\n",
       "    </tr>\n",
       "  </thead>\n",
       "  <tbody>\n",
       "    <tr>\n",
       "      <th>0</th>\n",
       "      <td>0</td>\n",
       "      <td>Dask workers=4</td>\n",
       "      <td>[4076.7535820007324, 3960.8836460113525, 3970....</td>\n",
       "      <td>4054.229888</td>\n",
       "    </tr>\n",
       "  </tbody>\n",
       "</table>\n",
       "</div>"
      ],
      "text/plain": [
       "   index          method                                        time_result  \\\n",
       "0      0  Dask workers=4  [4076.7535820007324, 3960.8836460113525, 3970....   \n",
       "\n",
       "   time_result_avg  \n",
       "0      4054.229888  "
      ]
     },
     "execution_count": 18,
     "metadata": {},
     "output_type": "execute_result"
    }
   ],
   "source": [
    "df_result_local"
   ]
  },
  {
   "cell_type": "code",
   "execution_count": null,
   "id": "20a607ba",
   "metadata": {},
   "outputs": [],
   "source": [
    "df_result['average_score'][0]"
   ]
  },
  {
   "cell_type": "code",
   "execution_count": 19,
   "id": "9481d32b",
   "metadata": {},
   "outputs": [
    {
     "data": {
      "text/html": [
       "<div>\n",
       "<style scoped>\n",
       "    .dataframe tbody tr th:only-of-type {\n",
       "        vertical-align: middle;\n",
       "    }\n",
       "\n",
       "    .dataframe tbody tr th {\n",
       "        vertical-align: top;\n",
       "    }\n",
       "\n",
       "    .dataframe thead th {\n",
       "        text-align: right;\n",
       "    }\n",
       "</style>\n",
       "<table border=\"1\" class=\"dataframe\">\n",
       "  <thead>\n",
       "    <tr style=\"text-align: right;\">\n",
       "      <th></th>\n",
       "      <th>Unnamed: 0</th>\n",
       "      <th>method</th>\n",
       "      <th>time_result</th>\n",
       "      <th>average_score</th>\n",
       "      <th>time_result_avg</th>\n",
       "    </tr>\n",
       "  </thead>\n",
       "  <tbody>\n",
       "    <tr>\n",
       "      <th>0</th>\n",
       "      <td>0</td>\n",
       "      <td>ray_backend n_job=-1, tree_method=exact</td>\n",
       "      <td>[221.29853296279907, 217.24194288253784, 222.8...</td>\n",
       "      <td>[0.8325888933054486, 0.8325888933054486, 0.832...</td>\n",
       "      <td>218.702716</td>\n",
       "    </tr>\n",
       "    <tr>\n",
       "      <th>1</th>\n",
       "      <td>2</td>\n",
       "      <td>n_job=-1, tree_method=exact</td>\n",
       "      <td>[231.20413184165955, 231.77034091949463, 233.8...</td>\n",
       "      <td>[0.8325888933054486, 0.8325888933054486, 0.832...</td>\n",
       "      <td>233.833133</td>\n",
       "    </tr>\n",
       "    <tr>\n",
       "      <th>2</th>\n",
       "      <td>0</td>\n",
       "      <td>n_job=4, tree_method=exact</td>\n",
       "      <td>[293.35462498664856, 312.37032103538513, 323.1...</td>\n",
       "      <td>[0.8325888933054486, 0.8325888933054486, 0.832...</td>\n",
       "      <td>303.466263</td>\n",
       "    </tr>\n",
       "    <tr>\n",
       "      <th>3</th>\n",
       "      <td>3</td>\n",
       "      <td>n_job=-1, tree_method=hist</td>\n",
       "      <td>[414.09147906303406, 414.3889961242676, 414.22...</td>\n",
       "      <td>[0.8315309242571999, 0.8315309242571999, 0.831...</td>\n",
       "      <td>419.011680</td>\n",
       "    </tr>\n",
       "    <tr>\n",
       "      <th>4</th>\n",
       "      <td>1</td>\n",
       "      <td>n_job=4, tree_method=hist</td>\n",
       "      <td>[462.53806018829346, 458.7789990901947, 458.55...</td>\n",
       "      <td>[0.8315309242571999, 0.8315309242571999, 0.831...</td>\n",
       "      <td>460.887029</td>\n",
       "    </tr>\n",
       "  </tbody>\n",
       "</table>\n",
       "</div>"
      ],
      "text/plain": [
       "   Unnamed: 0                                   method  \\\n",
       "0           0  ray_backend n_job=-1, tree_method=exact   \n",
       "1           2              n_job=-1, tree_method=exact   \n",
       "2           0               n_job=4, tree_method=exact   \n",
       "3           3               n_job=-1, tree_method=hist   \n",
       "4           1                n_job=4, tree_method=hist   \n",
       "\n",
       "                                         time_result  \\\n",
       "0  [221.29853296279907, 217.24194288253784, 222.8...   \n",
       "1  [231.20413184165955, 231.77034091949463, 233.8...   \n",
       "2  [293.35462498664856, 312.37032103538513, 323.1...   \n",
       "3  [414.09147906303406, 414.3889961242676, 414.22...   \n",
       "4  [462.53806018829346, 458.7789990901947, 458.55...   \n",
       "\n",
       "                                       average_score  time_result_avg  \n",
       "0  [0.8325888933054486, 0.8325888933054486, 0.832...       218.702716  \n",
       "1  [0.8325888933054486, 0.8325888933054486, 0.832...       233.833133  \n",
       "2  [0.8325888933054486, 0.8325888933054486, 0.832...       303.466263  \n",
       "3  [0.8315309242571999, 0.8315309242571999, 0.831...       419.011680  \n",
       "4  [0.8315309242571999, 0.8315309242571999, 0.831...       460.887029  "
      ]
     },
     "execution_count": 19,
     "metadata": {},
     "output_type": "execute_result"
    }
   ],
   "source": [
    "df_result.head()"
   ]
  },
  {
   "cell_type": "code",
   "execution_count": 20,
   "id": "a5d94978",
   "metadata": {},
   "outputs": [],
   "source": [
    "df_result = pd.concat([df_result, df_result_local])"
   ]
  },
  {
   "cell_type": "code",
   "execution_count": 23,
   "id": "5916c77f-bf1a-498b-a54e-afb2705e4370",
   "metadata": {},
   "outputs": [],
   "source": [
    "df_result = df_result.sort_values(by=\"time_result_avg\")"
   ]
  },
  {
   "cell_type": "code",
   "execution_count": 27,
   "id": "de7c1165",
   "metadata": {},
   "outputs": [
    {
     "data": {
      "text/html": [
       "<div>\n",
       "<style scoped>\n",
       "    .dataframe tbody tr th:only-of-type {\n",
       "        vertical-align: middle;\n",
       "    }\n",
       "\n",
       "    .dataframe tbody tr th {\n",
       "        vertical-align: top;\n",
       "    }\n",
       "\n",
       "    .dataframe thead th {\n",
       "        text-align: right;\n",
       "    }\n",
       "</style>\n",
       "<table border=\"1\" class=\"dataframe\">\n",
       "  <thead>\n",
       "    <tr style=\"text-align: right;\">\n",
       "      <th></th>\n",
       "      <th>Unnamed: 0</th>\n",
       "      <th>method</th>\n",
       "      <th>time_result</th>\n",
       "      <th>average_score</th>\n",
       "      <th>time_result_avg</th>\n",
       "      <th>index</th>\n",
       "    </tr>\n",
       "  </thead>\n",
       "  <tbody>\n",
       "    <tr>\n",
       "      <th>0</th>\n",
       "      <td>0.0</td>\n",
       "      <td>ray_backend n_job=-1, tree_method=exact</td>\n",
       "      <td>[221.29853296279907, 217.24194288253784, 222.8...</td>\n",
       "      <td>[0.8325888933054486, 0.8325888933054486, 0.832...</td>\n",
       "      <td>218.702716</td>\n",
       "      <td>NaN</td>\n",
       "    </tr>\n",
       "    <tr>\n",
       "      <th>1</th>\n",
       "      <td>2.0</td>\n",
       "      <td>n_job=-1, tree_method=exact</td>\n",
       "      <td>[231.20413184165955, 231.77034091949463, 233.8...</td>\n",
       "      <td>[0.8325888933054486, 0.8325888933054486, 0.832...</td>\n",
       "      <td>233.833133</td>\n",
       "      <td>NaN</td>\n",
       "    </tr>\n",
       "    <tr>\n",
       "      <th>2</th>\n",
       "      <td>0.0</td>\n",
       "      <td>n_job=4, tree_method=exact</td>\n",
       "      <td>[293.35462498664856, 312.37032103538513, 323.1...</td>\n",
       "      <td>[0.8325888933054486, 0.8325888933054486, 0.832...</td>\n",
       "      <td>303.466263</td>\n",
       "      <td>NaN</td>\n",
       "    </tr>\n",
       "    <tr>\n",
       "      <th>3</th>\n",
       "      <td>3.0</td>\n",
       "      <td>n_job=-1, tree_method=hist</td>\n",
       "      <td>[414.09147906303406, 414.3889961242676, 414.22...</td>\n",
       "      <td>[0.8315309242571999, 0.8315309242571999, 0.831...</td>\n",
       "      <td>419.011680</td>\n",
       "      <td>NaN</td>\n",
       "    </tr>\n",
       "    <tr>\n",
       "      <th>4</th>\n",
       "      <td>1.0</td>\n",
       "      <td>n_job=4, tree_method=hist</td>\n",
       "      <td>[462.53806018829346, 458.7789990901947, 458.55...</td>\n",
       "      <td>[0.8315309242571999, 0.8315309242571999, 0.831...</td>\n",
       "      <td>460.887029</td>\n",
       "      <td>NaN</td>\n",
       "    </tr>\n",
       "    <tr>\n",
       "      <th>5</th>\n",
       "      <td>4.0</td>\n",
       "      <td>n_job=1, tree_method=exact</td>\n",
       "      <td>[1051.6339600086212, 1054.682184934616, 1050.5...</td>\n",
       "      <td>[0.8325888933054486, 0.8325888933054486, 0.832...</td>\n",
       "      <td>1051.518388</td>\n",
       "      <td>NaN</td>\n",
       "    </tr>\n",
       "    <tr>\n",
       "      <th>6</th>\n",
       "      <td>5.0</td>\n",
       "      <td>n_job=1, tree_method=hist</td>\n",
       "      <td>[1225.4195230007172, 1224.7871389389038, 1224....</td>\n",
       "      <td>[0.8315309242571999, 0.8315309242571999, 0.831...</td>\n",
       "      <td>1222.946797</td>\n",
       "      <td>NaN</td>\n",
       "    </tr>\n",
       "    <tr>\n",
       "      <th>0</th>\n",
       "      <td>NaN</td>\n",
       "      <td>Dask workers=4</td>\n",
       "      <td>[4076.7535820007324, 3960.8836460113525, 3970....</td>\n",
       "      <td>NaN</td>\n",
       "      <td>4054.229888</td>\n",
       "      <td>0.0</td>\n",
       "    </tr>\n",
       "  </tbody>\n",
       "</table>\n",
       "</div>"
      ],
      "text/plain": [
       "   Unnamed: 0                                   method  \\\n",
       "0         0.0  ray_backend n_job=-1, tree_method=exact   \n",
       "1         2.0              n_job=-1, tree_method=exact   \n",
       "2         0.0               n_job=4, tree_method=exact   \n",
       "3         3.0               n_job=-1, tree_method=hist   \n",
       "4         1.0                n_job=4, tree_method=hist   \n",
       "5         4.0               n_job=1, tree_method=exact   \n",
       "6         5.0                n_job=1, tree_method=hist   \n",
       "0         NaN                           Dask workers=4   \n",
       "\n",
       "                                         time_result  \\\n",
       "0  [221.29853296279907, 217.24194288253784, 222.8...   \n",
       "1  [231.20413184165955, 231.77034091949463, 233.8...   \n",
       "2  [293.35462498664856, 312.37032103538513, 323.1...   \n",
       "3  [414.09147906303406, 414.3889961242676, 414.22...   \n",
       "4  [462.53806018829346, 458.7789990901947, 458.55...   \n",
       "5  [1051.6339600086212, 1054.682184934616, 1050.5...   \n",
       "6  [1225.4195230007172, 1224.7871389389038, 1224....   \n",
       "0  [4076.7535820007324, 3960.8836460113525, 3970....   \n",
       "\n",
       "                                       average_score  time_result_avg  index  \n",
       "0  [0.8325888933054486, 0.8325888933054486, 0.832...       218.702716    NaN  \n",
       "1  [0.8325888933054486, 0.8325888933054486, 0.832...       233.833133    NaN  \n",
       "2  [0.8325888933054486, 0.8325888933054486, 0.832...       303.466263    NaN  \n",
       "3  [0.8315309242571999, 0.8315309242571999, 0.831...       419.011680    NaN  \n",
       "4  [0.8315309242571999, 0.8315309242571999, 0.831...       460.887029    NaN  \n",
       "5  [0.8325888933054486, 0.8325888933054486, 0.832...      1051.518388    NaN  \n",
       "6  [0.8315309242571999, 0.8315309242571999, 0.831...      1222.946797    NaN  \n",
       "0                                                NaN      4054.229888    0.0  "
      ]
     },
     "execution_count": 27,
     "metadata": {},
     "output_type": "execute_result"
    }
   ],
   "source": [
    "df_result"
   ]
  },
  {
   "cell_type": "code",
   "execution_count": 28,
   "id": "104bf718",
   "metadata": {},
   "outputs": [
    {
     "data": {
      "text/plain": [
       "Index(['Unnamed: 0', 'method', 'time_result', 'average_score',\n",
       "       'time_result_avg', 'index'],\n",
       "      dtype='object')"
      ]
     },
     "execution_count": 28,
     "metadata": {},
     "output_type": "execute_result"
    }
   ],
   "source": [
    "df_result.columns"
   ]
  },
  {
   "cell_type": "code",
   "execution_count": 35,
   "id": "72529474",
   "metadata": {},
   "outputs": [],
   "source": [
    "df_result = df_result.drop(columns=[\"index\", \"Unnamed: 0\"])\n",
    "df_result = df_result.set_index(\"method\")"
   ]
  },
  {
   "cell_type": "code",
   "execution_count": 42,
   "id": "3c40b098",
   "metadata": {},
   "outputs": [],
   "source": [
    "df_result.to_csv('../output/df_result_joblib_ray_dask_21022023.csv', index=True)"
   ]
  },
  {
   "cell_type": "code",
   "execution_count": 43,
   "id": "bf4ba796",
   "metadata": {},
   "outputs": [],
   "source": [
    "df_result = df_result.iloc[[4, -1]]"
   ]
  },
  {
   "cell_type": "code",
   "execution_count": 45,
   "id": "6fbabe0e",
   "metadata": {},
   "outputs": [
    {
     "data": {
      "text/html": [
       "<div>\n",
       "<style scoped>\n",
       "    .dataframe tbody tr th:only-of-type {\n",
       "        vertical-align: middle;\n",
       "    }\n",
       "\n",
       "    .dataframe tbody tr th {\n",
       "        vertical-align: top;\n",
       "    }\n",
       "\n",
       "    .dataframe thead th {\n",
       "        text-align: right;\n",
       "    }\n",
       "</style>\n",
       "<table border=\"1\" class=\"dataframe\">\n",
       "  <thead>\n",
       "    <tr style=\"text-align: right;\">\n",
       "      <th></th>\n",
       "      <th>time_result</th>\n",
       "      <th>average_score</th>\n",
       "      <th>time_result_avg</th>\n",
       "    </tr>\n",
       "    <tr>\n",
       "      <th>method</th>\n",
       "      <th></th>\n",
       "      <th></th>\n",
       "      <th></th>\n",
       "    </tr>\n",
       "  </thead>\n",
       "  <tbody>\n",
       "    <tr>\n",
       "      <th>n_job=4, tree_method=hist</th>\n",
       "      <td>[462.53806018829346, 458.7789990901947, 458.55...</td>\n",
       "      <td>[0.8315309242571999, 0.8315309242571999, 0.831...</td>\n",
       "      <td>460.887029</td>\n",
       "    </tr>\n",
       "    <tr>\n",
       "      <th>Dask workers=4</th>\n",
       "      <td>[4076.7535820007324, 3960.8836460113525, 3970....</td>\n",
       "      <td>NaN</td>\n",
       "      <td>4054.229888</td>\n",
       "    </tr>\n",
       "  </tbody>\n",
       "</table>\n",
       "</div>"
      ],
      "text/plain": [
       "                                                                 time_result  \\\n",
       "method                                                                         \n",
       "n_job=4, tree_method=hist  [462.53806018829346, 458.7789990901947, 458.55...   \n",
       "Dask workers=4             [4076.7535820007324, 3960.8836460113525, 3970....   \n",
       "\n",
       "                                                               average_score  \\\n",
       "method                                                                         \n",
       "n_job=4, tree_method=hist  [0.8315309242571999, 0.8315309242571999, 0.831...   \n",
       "Dask workers=4                                                           NaN   \n",
       "\n",
       "                           time_result_avg  \n",
       "method                                      \n",
       "n_job=4, tree_method=hist       460.887029  \n",
       "Dask workers=4                 4054.229888  "
      ]
     },
     "execution_count": 45,
     "metadata": {},
     "output_type": "execute_result"
    }
   ],
   "source": [
    "df_result"
   ]
  },
  {
   "cell_type": "code",
   "execution_count": 46,
   "id": "5ea46d9c",
   "metadata": {},
   "outputs": [
    {
     "data": {
      "text/plain": [
       "8.81304347826087"
      ]
     },
     "execution_count": 46,
     "metadata": {},
     "output_type": "execute_result"
    }
   ],
   "source": [
    "4054/460"
   ]
  },
  {
   "cell_type": "code",
   "execution_count": null,
   "id": "e8292654-110e-44e4-8992-c0453d85e4e0",
   "metadata": {},
   "outputs": [],
   "source": [
    "# df_result = df_result.head(2)"
   ]
  },
  {
   "cell_type": "code",
   "execution_count": 44,
   "id": "62321107-cacc-4178-a55b-2c744c564fc4",
   "metadata": {},
   "outputs": [
    {
     "data": {
      "image/png": "[encoded data removed]",
      "text/plain": [
       "<Figure size 1000x1000 with 1 Axes>"
      ]
     },
     "metadata": {},
     "output_type": "display_data"
    }
   ],
   "source": [
    "num_exp = 50\n",
    "\n",
    "fig = plt.figure(figsize=(10, 10))\n",
    "plt.title(f'XGB performance benchmark for {num_exp} iterations (20 Newsgroup data)')\n",
    "plt.ylabel(\"elapsed time (sec)\")\n",
    "fig = df_result[\"time_result\"].apply(lambda x: pd.Series(x)).T.boxplot(rot=45)\n",
    "plt.tight_layout()\n",
    "fig.figure.savefig(f'../img/performance_{num_exp}_dask.png')\n"
   ]
  },
  {
   "cell_type": "code",
   "execution_count": null,
   "id": "6b122275-dcc2-4e14-8731-56ed68a96261",
   "metadata": {},
   "outputs": [],
   "source": [
    "fig = plt.figure(figsize=(10, 10))\n",
    "plt.title(f'XGB average time for {num_exp} (20 Newsgroup data)')\n",
    "plt.ylabel(\"elapsed time (sec)\")\n",
    "\n",
    "df_result_t = df_result[\"time_result\"].head(2).apply(lambda x: pd.Series(x)).T\n",
    "fig = df_result_t.reindex(df_result_t.mean().sort_values().index, axis=1).mean().plot(kind='bar', rot=45)\n",
    "\n",
    "plt.tight_layout()\n",
    "# fig.figure.savefig(f'../img/average_time_{num_exp}.png')\n",
    "\n"
   ]
  },
  {
   "cell_type": "code",
   "execution_count": null,
   "id": "11584f7b-9355-4404-9704-4066ed385ae5",
   "metadata": {},
   "outputs": [],
   "source": [
    "# ray https://www.anyscale.com/blog/three-ways-to-speed-up-xgboost-model-training"
   ]
  }
 ],
 "metadata": {
  "kernelspec": {
   "display_name": "Python 3 (ipykernel)",
   "language": "python",
   "name": "python3"
  },
  "language_info": {
   "codemirror_mode": {
    "name": "ipython",
    "version": 3
   },
   "file_extension": ".py",
   "mimetype": "text/x-python",
   "name": "python",
   "nbconvert_exporter": "python",
   "pygments_lexer": "ipython3",
   "version": "3.9.16"
  },
  "vscode": {
   "interpreter": {
    "hash": "0479e754db294e497611fd8d244dbddaec7d11e5bc6920d9ff3f73235eb6645f"
   }
  }
 },
 "nbformat": 4,
 "nbformat_minor": 5
}
