{
 "cells": [
  {
   "cell_type": "code",
   "execution_count": 7,
   "id": "a9628663-95a2-4694-8a78-f89a7d1941f2",
   "metadata": {},
   "outputs": [],
   "source": [
    "import time\n",
    "import gc\n",
    "import random\n",
    "import pandas as pd\n",
    "# import numpy as np\n",
    "# from tqdm import tqdm\n",
    "import matplotlib.pyplot as plt\n",
    "\n",
    "\n",
    "# import xgboost as xgb\n",
    "# from sklearn.metrics import f1_score\n",
    "# from sklearn.pipeline import Pipeline\n",
    "from sklearn.datasets import fetch_20newsgroups\n",
    "# from sklearn.model_selection import train_test_split\n",
    "# from sklearn.feature_extraction.text import CountVectorizer\n",
    "\n",
    "random.seed(42)\n",
    "gc.enable()\n",
    "%matplotlib inline"
   ]
  },
  {
   "cell_type": "markdown",
   "id": "a8b4c01c-d01d-47f9-9aef-287dcbb0877d",
   "metadata": {},
   "source": [
    "# modeling"
   ]
  },
  {
   "cell_type": "markdown",
   "id": "a878913b",
   "metadata": {},
   "source": [
    "### Dask_XGB"
   ]
  },
  {
   "cell_type": "markdown",
   "id": "c59e26f8",
   "metadata": {},
   "source": [
    "https://xgboost.readthedocs.io/en/stable/tutorials/dask.html\n",
    "\n",
    "https://examples.dask.org/machine-learning/text-vectorization.html\n",
    "\n",
    "https://examples.dask.org/machine-learning/xgboost.html"
   ]
  },
  {
   "cell_type": "code",
   "execution_count": null,
   "id": "9d24268a",
   "metadata": {},
   "outputs": [],
   "source": [
    "import dask_xgboost\n",
    "\n",
    "import dask.dataframe as dd\n",
    "from dask.distributed import Client\n",
    "import dask_ml.feature_extraction.text\n",
    "from dask_ml.model_selection import train_test_split"
   ]
  },
  {
   "cell_type": "code",
   "execution_count": null,
   "id": "fb0dc3a2",
   "metadata": {},
   "outputs": [],
   "source": [
    "X_train, X_test, y_train, y_test = train_test_split(X, y, test_size=0.2)"
   ]
  },
  {
   "cell_type": "code",
   "execution_count": null,
   "id": "4cb0334e",
   "metadata": {},
   "outputs": [],
   "source": [
    "params = {'objective': 'multi:softmax',\n",
    "          'num_class':20}\n",
    "\n",
    "bst = dask_xgboost.train(client, params, X_train, y_train, num_boost_round=100)"
   ]
  },
  {
   "cell_type": "code",
   "execution_count": null,
   "id": "2ed47059",
   "metadata": {},
   "outputs": [],
   "source": [
    "bst.best_iteration()"
   ]
  },
  {
   "cell_type": "code",
   "execution_count": null,
   "id": "6dac0eff",
   "metadata": {},
   "outputs": [],
   "source": [
    "y_hat = dask_xgboost.predict(client, bst, X_test).persist()\n",
    "y_hat"
   ]
  },
  {
   "cell_type": "code",
   "execution_count": null,
   "id": "fbc31f92",
   "metadata": {},
   "outputs": [],
   "source": [
    "y_hat.compute()"
   ]
  },
  {
   "cell_type": "code",
   "execution_count": null,
   "id": "7ea12d99",
   "metadata": {},
   "outputs": [],
   "source": [
    "y_test, y_hat = dask.compute(y_test, y_hat)"
   ]
  },
  {
   "cell_type": "code",
   "execution_count": null,
   "id": "cf3d10cb",
   "metadata": {},
   "outputs": [],
   "source": [
    "score = f1_score(y_test, y_hat, average='macro')"
   ]
  },
  {
   "cell_type": "markdown",
   "id": "4ba546bc",
   "metadata": {},
   "source": [
    "### XGBoost with SKlearn wrapper on Dask"
   ]
  },
  {
   "cell_type": "code",
   "execution_count": 5,
   "id": "1867c624",
   "metadata": {},
   "outputs": [],
   "source": [
    "from itertools import repeat\n",
    "\n",
    "import xgboost as xgb\n",
    "import dask.array as da\n",
    "import dask.distributed\n",
    "import dask.dataframe as dd\n",
    "import dask_ml.feature_extraction.text\n",
    "\n",
    "from distributed import LocalCluster, Client"
   ]
  },
  {
   "cell_type": "code",
   "execution_count": 9,
   "id": "c90f21c1",
   "metadata": {},
   "outputs": [],
   "source": [
    "def load_data():\n",
    "    twenty_train = fetch_20newsgroups(subset='train', shuffle=True, random_state=42)\n",
    "    \n",
    "    df = dd.from_pandas(pd.DataFrame({\"text\": twenty_train.data,\n",
    "                                      \"target\": twenty_train.target}),\n",
    "                        npartitions=25)\n",
    "    \n",
    "    vect = dask_ml.feature_extraction.text.HashingVectorizer(lowercase=False, ngram_range=(1, 2))\n",
    "#     vect = dask_ml.feature_extraction.text.CountVectorizer()\n",
    "    \n",
    "    y = df['target'].to_dask_array(lengths=True)\n",
    "    X = vect.fit_transform(df['text'])\n",
    "    \n",
    "    X.compute_chunk_sizes()\n",
    "    y.compute_chunk_sizes()\n",
    "    \n",
    "    return X, y\n",
    "\n",
    "\n",
    "def main(X, y, client: Client) -> None:\n",
    "    clf = xgb.dask.DaskXGBClassifier(n_estimators=100, tree_method=\"hist\")\n",
    "    clf.client = client  # assign the client\n",
    "    clf.fit(X, y, eval_set=[(X, y)])\n",
    "#     proba = clf.predict_proba(X)"
   ]
  },
  {
   "cell_type": "code",
   "execution_count": null,
   "id": "d1d6ebea",
   "metadata": {},
   "outputs": [
    {
     "name": "stderr",
     "output_type": "stream",
     "text": [
      "INFO:distributed.scheduler:State start\n",
      "INFO:distributed.scheduler:  Scheduler at:     tcp://127.0.0.1:54166\n",
      "INFO:distributed.scheduler:  dashboard at:            127.0.0.1:8787\n",
      "INFO:distributed.nanny:        Start Nanny at: 'tcp://127.0.0.1:54169'\n",
      "INFO:distributed.nanny:        Start Nanny at: 'tcp://127.0.0.1:54170'\n",
      "INFO:distributed.nanny:        Start Nanny at: 'tcp://127.0.0.1:54171'\n",
      "INFO:distributed.nanny:        Start Nanny at: 'tcp://127.0.0.1:54172'\n",
      "INFO:distributed.scheduler:Register worker <WorkerState 'tcp://127.0.0.1:54177', name: 0, status: init, memory: 0, processing: 0>\n",
      "INFO:distributed.scheduler:Starting worker compute stream, tcp://127.0.0.1:54177\n",
      "INFO:distributed.core:Starting established connection to tcp://127.0.0.1:54179\n",
      "INFO:distributed.scheduler:Register worker <WorkerState 'tcp://127.0.0.1:54180', name: 1, status: init, memory: 0, processing: 0>\n",
      "INFO:distributed.scheduler:Starting worker compute stream, tcp://127.0.0.1:54180\n",
      "INFO:distributed.core:Starting established connection to tcp://127.0.0.1:54182\n",
      "INFO:distributed.scheduler:Register worker <WorkerState 'tcp://127.0.0.1:54183', name: 2, status: init, memory: 0, processing: 0>\n",
      "INFO:distributed.scheduler:Starting worker compute stream, tcp://127.0.0.1:54183\n",
      "INFO:distributed.core:Starting established connection to tcp://127.0.0.1:54185\n",
      "INFO:distributed.scheduler:Register worker <WorkerState 'tcp://127.0.0.1:54186', name: 3, status: init, memory: 0, processing: 0>\n",
      "INFO:distributed.scheduler:Starting worker compute stream, tcp://127.0.0.1:54186\n",
      "INFO:distributed.core:Starting established connection to tcp://127.0.0.1:54188\n",
      "INFO:distributed.scheduler:Receive client connection: Client-421b0828-ac31-11ed-9efd-3267941770bc\n",
      "INFO:distributed.core:Starting established connection to tcp://127.0.0.1:54189\n",
      "INFO:distributed.worker:Run out-of-band function '_start_tracker'\n",
      "INFO:distributed.scheduler:Receive client connection: Client-worker-432a7398-ac31-11ed-9ff7-3267941770bc\n",
      "INFO:distributed.core:Starting established connection to tcp://127.0.0.1:54201\n",
      "INFO:distributed.scheduler:Receive client connection: Client-worker-432a82ca-ac31-11ed-9ff5-3267941770bc\n",
      "INFO:distributed.core:Starting established connection to tcp://127.0.0.1:54204\n",
      "INFO:distributed.scheduler:Receive client connection: Client-worker-432a730c-ac31-11ed-9ff6-3267941770bc\n",
      "INFO:distributed.core:Starting established connection to tcp://127.0.0.1:54203\n",
      "INFO:distributed.scheduler:Receive client connection: Client-worker-432a74ba-ac31-11ed-9ff4-3267941770bc\n",
      "INFO:distributed.core:Starting established connection to tcp://127.0.0.1:54202\n",
      "[23:31:49] task [xgboost.dask-0]:tcp://127.0.0.1:54177 got new rank 0\n",
      "[23:31:49] task [xgboost.dask-1]:tcp://127.0.0.1:54180 got new rank 1\n",
      "[23:31:49] task [xgboost.dask-2]:tcp://127.0.0.1:54183 got new rank 2\n",
      "[23:31:49] task [xgboost.dask-3]:tcp://127.0.0.1:54186 got new rank 3\n"
     ]
    }
   ],
   "source": [
    "if __name__ == \"__main__\":\n",
    "    \n",
    "    num_exp = 2\n",
    "\n",
    "    all_exps = []\n",
    "    exp_time = []\n",
    "    exp_score = []\n",
    "    experiment_dict ={}\n",
    "    experiment_dict[\"method\"] = f\"Dask workers=4\"   \n",
    "\n",
    "    X, y = load_data()\n",
    "    \n",
    "    with LocalCluster() as cluster:\n",
    "        with Client(cluster) as client:\n",
    "            for i in repeat(1, num_exp):\n",
    "                start = time.time()\n",
    "                main(X, y, client)\n",
    "                end = time.time()\n",
    "                exp_time.append(end-start)\n",
    "\n",
    "    experiment_dict[\"time_result\"] = exp_time\n",
    "    all_exps.append(experiment_dict)\n"
   ]
  },
  {
   "cell_type": "markdown",
   "id": "1271a147-12f2-494e-87b5-1273a4913545",
   "metadata": {},
   "source": [
    "# Visualize result"
   ]
  },
  {
   "cell_type": "code",
   "execution_count": null,
   "id": "75b778ca",
   "metadata": {},
   "outputs": [],
   "source": []
  },
  {
   "cell_type": "code",
   "execution_count": null,
   "id": "b8faed2b-4abd-4793-9166-50463c642052",
   "metadata": {},
   "outputs": [],
   "source": [
    "## if you ran the notebook\n",
    "# df_result = pd.DataFrame(all_exps).set_index(\"method\")\n",
    "# df_result = df_result.reset_index()\n",
    "\n",
    "# if you are loading the result dataframe from file\n",
    "import ast\n",
    "\n",
    "df_result = pd.read_csv('../output/df_result_joblib_ray_29012023.csv')\n",
    "df_result['time_result'] = df_result['time_result'].apply(lambda x: ast.literal_eval(x))"
   ]
  },
  {
   "cell_type": "code",
   "execution_count": null,
   "id": "20a607ba",
   "metadata": {},
   "outputs": [],
   "source": [
    "df_result['average_score'][0]"
   ]
  },
  {
   "cell_type": "code",
   "execution_count": null,
   "id": "771d3415-c25a-463f-bbf8-11758cff9e15",
   "metadata": {},
   "outputs": [],
   "source": [
    "df_result['time_result_avg'] = df_result['time_result'].apply(lambda x: np.mean(x))"
   ]
  },
  {
   "cell_type": "code",
   "execution_count": null,
   "id": "5916c77f-bf1a-498b-a54e-afb2705e4370",
   "metadata": {},
   "outputs": [],
   "source": [
    "df_result = df_result.sort_values(by=\"time_result_avg\")"
   ]
  },
  {
   "cell_type": "code",
   "execution_count": null,
   "id": "e8292654-110e-44e4-8992-c0453d85e4e0",
   "metadata": {},
   "outputs": [],
   "source": [
    "df_result = df_result.head(2)"
   ]
  },
  {
   "cell_type": "code",
   "execution_count": null,
   "id": "62321107-cacc-4178-a55b-2c744c564fc4",
   "metadata": {},
   "outputs": [],
   "source": [
    "num_exp = 50\n",
    "\n",
    "fig = plt.figure(figsize=(10, 10))\n",
    "plt.title(f'XGB performance benchmark for {num_exp} iterations (20 Newsgroup data)')\n",
    "plt.ylabel(\"elapsed time (sec)\")\n",
    "fig = df_result[\"time_result\"].head(2).apply(lambda x: pd.Series(x)).T.boxplot(rot=45)\n",
    "plt.tight_layout()\n",
    "fig.figure.savefig(f'../img/performance_{num_exp}_joblib_ray.png')\n"
   ]
  },
  {
   "cell_type": "code",
   "execution_count": null,
   "id": "6b122275-dcc2-4e14-8731-56ed68a96261",
   "metadata": {},
   "outputs": [],
   "source": [
    "fig = plt.figure(figsize=(10, 10))\n",
    "plt.title(f'XGB average time for {num_exp} (20 Newsgroup data)')\n",
    "plt.ylabel(\"elapsed time (sec)\")\n",
    "\n",
    "df_result_t = df_result[\"time_result\"].head(2).apply(lambda x: pd.Series(x)).T\n",
    "fig = df_result_t.reindex(df_result_t.mean().sort_values().index, axis=1).mean().plot(kind='bar', rot=45)\n",
    "\n",
    "plt.tight_layout()\n",
    "# fig.figure.savefig(f'../img/average_time_{num_exp}.png')\n",
    "\n"
   ]
  },
  {
   "cell_type": "code",
   "execution_count": null,
   "id": "11584f7b-9355-4404-9704-4066ed385ae5",
   "metadata": {},
   "outputs": [],
   "source": [
    "# ray https://www.anyscale.com/blog/three-ways-to-speed-up-xgboost-model-training"
   ]
  }
 ],
 "metadata": {
  "kernelspec": {
   "display_name": "Python 3 (ipykernel)",
   "language": "python",
   "name": "python3"
  },
  "language_info": {
   "codemirror_mode": {
    "name": "ipython",
    "version": 3
   },
   "file_extension": ".py",
   "mimetype": "text/x-python",
   "name": "python",
   "nbconvert_exporter": "python",
   "pygments_lexer": "ipython3",
   "version": "3.9.16"
  },
  "vscode": {
   "interpreter": {
    "hash": "0479e754db294e497611fd8d244dbddaec7d11e5bc6920d9ff3f73235eb6645f"
   }
  }
 },
 "nbformat": 4,
 "nbformat_minor": 5
}
