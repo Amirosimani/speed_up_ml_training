{
 "cells": [
  {
   "cell_type": "code",
   "execution_count": 1,
   "id": "a9628663-95a2-4694-8a78-f89a7d1941f2",
   "metadata": {},
   "outputs": [],
   "source": [
    "import time\n",
    "import random\n",
    "import pandas as pd\n",
    "import numpy as np\n",
    "from tqdm import tqdm\n",
    "import multiprocessing\n",
    "from itertools import repeat, product\n",
    "import matplotlib.pyplot as plt\n",
    "\n",
    "\n",
    "import xgboost as xgb\n",
    "from sklearn.metrics import f1_score\n",
    "from sklearn.pipeline import Pipeline\n",
    "from sklearn.datasets import fetch_20newsgroups\n",
    "from sklearn.model_selection import train_test_split\n",
    "from sklearn.feature_extraction.text import CountVectorizer\n",
    "\n",
    "\n",
    "import joblib\n",
    "from ray.util.joblib import register_ray\n",
    "\n",
    "\n",
    "random.seed(42)\n",
    "%matplotlib inline"
   ]
  },
  {
   "cell_type": "markdown",
   "id": "de4da534-3ef8-4be1-9686-1c647ccc4b0d",
   "metadata": {},
   "source": [
    "# Load the data"
   ]
  },
  {
   "cell_type": "code",
   "execution_count": 2,
   "id": "8f4322c1-6481-45f1-8ec3-ed5d840fb670",
   "metadata": {},
   "outputs": [],
   "source": [
    "twenty_train = fetch_20newsgroups(subset='train', shuffle=True, random_state=42)"
   ]
  },
  {
   "cell_type": "code",
   "execution_count": 3,
   "id": "e1aac72d-eb1c-474a-880a-8adf7075b2b1",
   "metadata": {},
   "outputs": [
    {
     "data": {
      "text/plain": [
       "11314"
      ]
     },
     "execution_count": 3,
     "metadata": {},
     "output_type": "execute_result"
    }
   ],
   "source": [
    "len(twenty_train.data)"
   ]
  },
  {
   "cell_type": "code",
   "execution_count": 4,
   "id": "6e6f60b9-6cca-4eb7-a0a2-f19052bdd9b5",
   "metadata": {},
   "outputs": [
    {
     "data": {
      "text/plain": [
       "['alt.atheism',\n",
       " 'comp.graphics',\n",
       " 'comp.os.ms-windows.misc',\n",
       " 'comp.sys.ibm.pc.hardware',\n",
       " 'comp.sys.mac.hardware',\n",
       " 'comp.windows.x',\n",
       " 'misc.forsale',\n",
       " 'rec.autos',\n",
       " 'rec.motorcycles',\n",
       " 'rec.sport.baseball',\n",
       " 'rec.sport.hockey',\n",
       " 'sci.crypt',\n",
       " 'sci.electronics',\n",
       " 'sci.med',\n",
       " 'sci.space',\n",
       " 'soc.religion.christian',\n",
       " 'talk.politics.guns',\n",
       " 'talk.politics.mideast',\n",
       " 'talk.politics.misc',\n",
       " 'talk.religion.misc']"
      ]
     },
     "execution_count": 4,
     "metadata": {},
     "output_type": "execute_result"
    }
   ],
   "source": [
    "twenty_train.target_names"
   ]
  },
  {
   "cell_type": "code",
   "execution_count": 5,
   "id": "de468ff8",
   "metadata": {},
   "outputs": [],
   "source": [
    "X, y = twenty_train.data, twenty_train.target"
   ]
  },
  {
   "cell_type": "code",
   "execution_count": 6,
   "id": "ffa188b1",
   "metadata": {},
   "outputs": [],
   "source": [
    "X_train, X_test, y_train, y_test = train_test_split(\n",
    "    X, y, test_size=0.2, random_state=42)"
   ]
  },
  {
   "cell_type": "markdown",
   "id": "a8b4c01c-d01d-47f9-9aef-287dcbb0877d",
   "metadata": {},
   "source": [
    "# modeling"
   ]
  },
  {
   "cell_type": "markdown",
   "id": "d09e5b3a-cac9-4816-bf20-98d5eb158cbd",
   "metadata": {},
   "source": [
    "### sklearn with Ray backend"
   ]
  },
  {
   "cell_type": "code",
   "execution_count": null,
   "id": "8e0a2b99",
   "metadata": {},
   "outputs": [],
   "source": [
    "import ray\n",
    "ray.shut"
   ]
  },
  {
   "cell_type": "code",
   "execution_count": null,
   "id": "b10c52f1-1f47-46c7-9e54-01b52303d2ec",
   "metadata": {},
   "outputs": [],
   "source": [
    "%time\n",
    "register_ray()"
   ]
  },
  {
   "cell_type": "code",
   "execution_count": null,
   "id": "66d65da3",
   "metadata": {},
   "outputs": [],
   "source": [
    "num_exp = 50\n",
    "# since these two were the fastest when using multi-processing\n",
    "t = \"exact\"\n",
    "n = -1\n",
    "\n",
    "all_exps = []\n",
    "\n",
    "\n",
    "exp_time = []\n",
    "exp_score = []\n",
    "experiment_dict ={}\n",
    "experiment_dict[\"method\"] = f\"ray_backend n_job={n}, tree_method={t}\"   \n",
    "\n",
    "print(f\"n_job={n}, tree_method={t} x {num_exp} times\")\n",
    "\n",
    "for i in tqdm(repeat(1, num_exp), total=num_exp):\n",
    "\n",
    "    xgb_model = xgb.XGBClassifier(n_jobs=n,\n",
    "                                  tree_method=t,\n",
    "                                  n_estimators=100, \n",
    "                                  random_state=42\n",
    "                                 )\n",
    "\n",
    "\n",
    "    text_clf = Pipeline([\n",
    "        ('vect', CountVectorizer(lowercase=False, ngram_range=(1,2))),\n",
    "        ('clf', xgb_model)\n",
    "    ])\n",
    "\n",
    "    with joblib.parallel_backend('ray'):        \n",
    "        start = time.time()\n",
    "        text_clf.fit(X_train, y_train)\n",
    "        end = time.time()\n",
    "    exp_time.append(end-start)\n",
    "\n",
    "    y_pred = text_clf.predict(X_test)\n",
    "    score = f1_score(y_test, y_pred, average='macro')\n",
    "    exp_score.append(score)\n",
    "    # print(score)\n",
    "\n",
    "experiment_dict[\"time_result\"] = exp_time\n",
    "experiment_dict[\"average_score\"] = exp_score\n",
    "\n",
    "all_exps.append(experiment_dict)"
   ]
  },
  {
   "cell_type": "markdown",
   "id": "1271a147-12f2-494e-87b5-1273a4913545",
   "metadata": {},
   "source": [
    "# Visualize result"
   ]
  },
  {
   "cell_type": "code",
   "execution_count": null,
   "id": "b8faed2b-4abd-4793-9166-50463c642052",
   "metadata": {},
   "outputs": [],
   "source": [
    "df_result = pd.DataFrame(all_exps).set_index(\"method\")"
   ]
  },
  {
   "cell_type": "code",
   "execution_count": null,
   "id": "681a1bae-cefc-47ce-b203-7679e18e68cb",
   "metadata": {},
   "outputs": [],
   "source": [
    "df_result = df_result.reset_index()"
   ]
  },
  {
   "cell_type": "code",
   "execution_count": null,
   "id": "dcb09b3c",
   "metadata": {},
   "outputs": [],
   "source": [
    "# df_old = pd.read_csv('../output/df_result.csv')\n",
    "\n",
    "# df_old['time_result'] = df_old['time_result'].apply(literal_eval)\n",
    "\n",
    "# df_result = pd.concat([df_old, df_result])"
   ]
  },
  {
   "cell_type": "code",
   "execution_count": null,
   "id": "771d3415-c25a-463f-bbf8-11758cff9e15",
   "metadata": {},
   "outputs": [],
   "source": [
    "df_result['time_result_avg'] = df_result['time_result'].apply(lambda x: np.mean(x))"
   ]
  },
  {
   "cell_type": "code",
   "execution_count": null,
   "id": "5916c77f-bf1a-498b-a54e-afb2705e4370",
   "metadata": {},
   "outputs": [],
   "source": [
    "df_result = df_result.sort_values(by=\"time_result_avg\")"
   ]
  },
  {
   "cell_type": "code",
   "execution_count": null,
   "id": "8392c73f",
   "metadata": {},
   "outputs": [],
   "source": [
    "df_result.to_csv('../output/df_result_joblib_ray_29012023.csv')"
   ]
  },
  {
   "cell_type": "code",
   "execution_count": null,
   "id": "e8292654-110e-44e4-8992-c0453d85e4e0",
   "metadata": {},
   "outputs": [],
   "source": [
    "df_result.head(2)"
   ]
  },
  {
   "cell_type": "code",
   "execution_count": null,
   "id": "1f44cac9",
   "metadata": {},
   "outputs": [],
   "source": [
    "218.70/233.83"
   ]
  },
  {
   "cell_type": "code",
   "execution_count": null,
   "id": "62321107-cacc-4178-a55b-2c744c564fc4",
   "metadata": {},
   "outputs": [],
   "source": [
    "fig = plt.figure(figsize=(10, 10))\n",
    "plt.title(f'XGB performance benchmark for {num_exp} iteration (20 Newsgroup data)')\n",
    "plt.ylabel(\"elapsed time (sec)\")\n",
    "fig = df_result[\"time_result\"].head(2).apply(lambda x: pd.Series(x)).T.boxplot(rot=45)\n",
    "plt.tight_layout()\n",
    "fig.figure.savefig(f'../img/performance_{num_exp}_joblib_ray.png')\n"
   ]
  },
  {
   "cell_type": "code",
   "execution_count": null,
   "id": "6b122275-dcc2-4e14-8731-56ed68a96261",
   "metadata": {},
   "outputs": [],
   "source": [
    "fig = plt.figure(figsize=(10, 10))\n",
    "plt.title(f'XGB average time for {num_exp} (20 Newsgroup data)')\n",
    "plt.ylabel(\"elapsed time (sec)\")\n",
    "\n",
    "df_result_t = df_result[\"time_result\"].head(2).apply(lambda x: pd.Series(x)).T\n",
    "fig = df_result_t.reindex(df_result_t.mean().sort_values().index, axis=1).mean().plot(kind='bar', rot=45)\n",
    "\n",
    "plt.tight_layout()\n",
    "fig.figure.savefig(f'../img/average_time_{num_exp}.png')\n",
    "\n"
   ]
  },
  {
   "cell_type": "code",
   "execution_count": null,
   "id": "11584f7b-9355-4404-9704-4066ed385ae5",
   "metadata": {},
   "outputs": [],
   "source": [
    "# ray https://www.anyscale.com/blog/three-ways-to-speed-up-xgboost-model-training"
   ]
  }
 ],
 "metadata": {
  "kernelspec": {
   "display_name": "Python 3 (ipykernel)",
   "language": "python",
   "name": "python3"
  },
  "language_info": {
   "codemirror_mode": {
    "name": "ipython",
    "version": 3
   },
   "file_extension": ".py",
   "mimetype": "text/x-python",
   "name": "python",
   "nbconvert_exporter": "python",
   "pygments_lexer": "ipython3",
   "version": "3.9.16"
  },
  "vscode": {
   "interpreter": {
    "hash": "0479e754db294e497611fd8d244dbddaec7d11e5bc6920d9ff3f73235eb6645f"
   }
  }
 },
 "nbformat": 4,
 "nbformat_minor": 5
}
