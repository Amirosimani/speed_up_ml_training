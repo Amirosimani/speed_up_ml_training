{
 "cells": [
  {
   "cell_type": "code",
   "execution_count": 1,
   "id": "a9628663-95a2-4694-8a78-f89a7d1941f2",
   "metadata": {},
   "outputs": [],
   "source": [
    "import time\n",
    "import random\n",
    "import pandas as pd\n",
    "import numpy as np\n",
    "from tqdm import tqdm\n",
    "import multiprocessing\n",
    "from itertools import repeat, product\n",
    "import matplotlib.pyplot as plt\n",
    "\n",
    "\n",
    "import xgboost as xgb\n",
    "from sklearn.metrics import f1_score\n",
    "from sklearn.pipeline import Pipeline\n",
    "from sklearn.model_selection import train_test_split\n",
    "from sklearn.feature_extraction.text import CountVectorizer\n",
    "\n",
    "\n",
    "random.seed(123)\n",
    "%matplotlib inline"
   ]
  },
  {
   "cell_type": "markdown",
   "id": "de4da534-3ef8-4be1-9686-1c647ccc4b0d",
   "metadata": {},
   "source": [
    "# Load the data"
   ]
  },
  {
   "cell_type": "code",
   "execution_count": 2,
   "id": "43051b94-93f0-4d94-a7b0-283e117da4e7",
   "metadata": {},
   "outputs": [
    {
     "data": {
      "text/plain": [
       "(20978, 8)"
      ]
     },
     "execution_count": 2,
     "metadata": {},
     "output_type": "execute_result"
    }
   ],
   "source": [
    "df = pd.read_parquet('./data/df_labeled.parquet')\n",
    "df.shape"
   ]
  },
  {
   "cell_type": "code",
   "execution_count": 3,
   "id": "d62d3608-975f-4b7d-a1de-31b1d9fd7d89",
   "metadata": {},
   "outputs": [
    {
     "data": {
      "text/html": [
       "<div>\n",
       "<style scoped>\n",
       "    .dataframe tbody tr th:only-of-type {\n",
       "        vertical-align: middle;\n",
       "    }\n",
       "\n",
       "    .dataframe tbody tr th {\n",
       "        vertical-align: top;\n",
       "    }\n",
       "\n",
       "    .dataframe thead th {\n",
       "        text-align: right;\n",
       "    }\n",
       "</style>\n",
       "<table border=\"1\" class=\"dataframe\">\n",
       "  <thead>\n",
       "    <tr style=\"text-align: right;\">\n",
       "      <th></th>\n",
       "      <th>context_uid</th>\n",
       "      <th>text</th>\n",
       "      <th>text_embedding</th>\n",
       "      <th>text_truncated</th>\n",
       "      <th>url</th>\n",
       "      <th>preds</th>\n",
       "      <th>probs</th>\n",
       "      <th>preds_str</th>\n",
       "    </tr>\n",
       "    <tr>\n",
       "      <th>__DATAPOINT_UID</th>\n",
       "      <th></th>\n",
       "      <th></th>\n",
       "      <th></th>\n",
       "      <th></th>\n",
       "      <th></th>\n",
       "      <th></th>\n",
       "      <th></th>\n",
       "      <th></th>\n",
       "    </tr>\n",
       "  </thead>\n",
       "  <tbody>\n",
       "    <tr>\n",
       "      <th>doc::0</th>\n",
       "      <td>0</td>\n",
       "      <td>\\n\\n              EXCLUSIVE TECHNICAL CONSULTI...</td>\n",
       "      <td>[-0.2118404507637024, -0.26993510127067566, 0....</td>\n",
       "      <td>\\n\\n              EXCLUSIVE TECHNICAL CONSULTI...</td>\n",
       "      <td>https://link.snorkel-ai.com/DkB7JA</td>\n",
       "      <td>2</td>\n",
       "      <td>[8.081812848104164e-05, 0.0008421743987128139,...</td>\n",
       "      <td>services</td>\n",
       "    </tr>\n",
       "    <tr>\n",
       "      <th>doc::1</th>\n",
       "      <td>1</td>\n",
       "      <td>\\n\\n                       ITOWNET ELECTRONIC ...</td>\n",
       "      <td>[-0.09042458236217499, -0.10253632813692093, 0...</td>\n",
       "      <td>\\n\\n                       ITOWNET ELECTRONIC ...</td>\n",
       "      <td>https://link.snorkel-ai.com/55ftNU</td>\n",
       "      <td>2</td>\n",
       "      <td>[0.00037732310011051595, 0.0028201169334352016...</td>\n",
       "      <td>services</td>\n",
       "    </tr>\n",
       "    <tr>\n",
       "      <th>doc::10</th>\n",
       "      <td>10</td>\n",
       "      <td>\\nEMPLOYMENT AGREEMENT\\nThis Agreement (the \"A...</td>\n",
       "      <td>[0.20291098952293396, -0.4462553560733795, 0.4...</td>\n",
       "      <td>\\nEMPLOYMENT AGREEMENT\\nThis Agreement (the \"A...</td>\n",
       "      <td>https://link.snorkel-ai.com/CRcQnu</td>\n",
       "      <td>0</td>\n",
       "      <td>[0.9999843835830688, 2.716194103413727e-06, 1....</td>\n",
       "      <td>employment</td>\n",
       "    </tr>\n",
       "    <tr>\n",
       "      <th>doc::100</th>\n",
       "      <td>100</td>\n",
       "      <td>\\n\\n                            STOCK PURCHASE...</td>\n",
       "      <td>[0.010273497551679611, -0.09152742475271225, 0...</td>\n",
       "      <td>\\n\\n                            STOCK PURCHASE...</td>\n",
       "      <td>None</td>\n",
       "      <td>3</td>\n",
       "      <td>[9.5067844085861e-06, 1.5301578969229013e-05, ...</td>\n",
       "      <td>stock</td>\n",
       "    </tr>\n",
       "    <tr>\n",
       "      <th>doc::1000</th>\n",
       "      <td>1000</td>\n",
       "      <td>\\n\\n                 STATEMENT OF TERMS AND CO...</td>\n",
       "      <td>[0.408515989780426, -0.34444373846054077, 0.17...</td>\n",
       "      <td>\\n\\n                 STATEMENT OF TERMS AND CO...</td>\n",
       "      <td>https://link.snorkel-ai.com/5B66Lq</td>\n",
       "      <td>0</td>\n",
       "      <td>[0.9997205138206482, 1.5678218915127218e-05, 0...</td>\n",
       "      <td>employment</td>\n",
       "    </tr>\n",
       "  </tbody>\n",
       "</table>\n",
       "</div>"
      ],
      "text/plain": [
       "                 context_uid  \\\n",
       "__DATAPOINT_UID                \n",
       "doc::0                     0   \n",
       "doc::1                     1   \n",
       "doc::10                   10   \n",
       "doc::100                 100   \n",
       "doc::1000               1000   \n",
       "\n",
       "                                                              text  \\\n",
       "__DATAPOINT_UID                                                      \n",
       "doc::0           \\n\\n              EXCLUSIVE TECHNICAL CONSULTI...   \n",
       "doc::1           \\n\\n                       ITOWNET ELECTRONIC ...   \n",
       "doc::10          \\nEMPLOYMENT AGREEMENT\\nThis Agreement (the \"A...   \n",
       "doc::100         \\n\\n                            STOCK PURCHASE...   \n",
       "doc::1000        \\n\\n                 STATEMENT OF TERMS AND CO...   \n",
       "\n",
       "                                                    text_embedding  \\\n",
       "__DATAPOINT_UID                                                      \n",
       "doc::0           [-0.2118404507637024, -0.26993510127067566, 0....   \n",
       "doc::1           [-0.09042458236217499, -0.10253632813692093, 0...   \n",
       "doc::10          [0.20291098952293396, -0.4462553560733795, 0.4...   \n",
       "doc::100         [0.010273497551679611, -0.09152742475271225, 0...   \n",
       "doc::1000        [0.408515989780426, -0.34444373846054077, 0.17...   \n",
       "\n",
       "                                                    text_truncated  \\\n",
       "__DATAPOINT_UID                                                      \n",
       "doc::0           \\n\\n              EXCLUSIVE TECHNICAL CONSULTI...   \n",
       "doc::1           \\n\\n                       ITOWNET ELECTRONIC ...   \n",
       "doc::10          \\nEMPLOYMENT AGREEMENT\\nThis Agreement (the \"A...   \n",
       "doc::100         \\n\\n                            STOCK PURCHASE...   \n",
       "doc::1000        \\n\\n                 STATEMENT OF TERMS AND CO...   \n",
       "\n",
       "                                                url  preds  \\\n",
       "__DATAPOINT_UID                                              \n",
       "doc::0           https://link.snorkel-ai.com/DkB7JA      2   \n",
       "doc::1           https://link.snorkel-ai.com/55ftNU      2   \n",
       "doc::10          https://link.snorkel-ai.com/CRcQnu      0   \n",
       "doc::100                                       None      3   \n",
       "doc::1000        https://link.snorkel-ai.com/5B66Lq      0   \n",
       "\n",
       "                                                             probs   preds_str  \n",
       "__DATAPOINT_UID                                                                 \n",
       "doc::0           [8.081812848104164e-05, 0.0008421743987128139,...    services  \n",
       "doc::1           [0.00037732310011051595, 0.0028201169334352016...    services  \n",
       "doc::10          [0.9999843835830688, 2.716194103413727e-06, 1....  employment  \n",
       "doc::100         [9.5067844085861e-06, 1.5301578969229013e-05, ...       stock  \n",
       "doc::1000        [0.9997205138206482, 1.5678218915127218e-05, 0...  employment  "
      ]
     },
     "execution_count": 3,
     "metadata": {},
     "output_type": "execute_result"
    }
   ],
   "source": [
    "df.head()"
   ]
  },
  {
   "cell_type": "code",
   "execution_count": 4,
   "id": "5fbab574-5a0e-4673-90ac-bdc6df57a0d0",
   "metadata": {},
   "outputs": [],
   "source": [
    "# df['label'] = [ random.randint(1,5)  for k in df.index]\n",
    "# df['label'].value_counts()"
   ]
  },
  {
   "cell_type": "code",
   "execution_count": 5,
   "id": "09cee925-58ca-47b3-92f8-a99ade16521c",
   "metadata": {},
   "outputs": [
    {
     "data": {
      "text/plain": [
       "(20978, 8)"
      ]
     },
     "execution_count": 5,
     "metadata": {},
     "output_type": "execute_result"
    }
   ],
   "source": [
    "df = df.dropna(subset=['preds'])\n",
    "df.shape"
   ]
  },
  {
   "cell_type": "code",
   "execution_count": 6,
   "id": "c7dd7faf-a9fd-4c54-8b10-4a115e2d806c",
   "metadata": {},
   "outputs": [],
   "source": [
    "X, y = df['text'].head(100), df['preds'].head(100)\n",
    "\n",
    "X_train, X_test, y_train, y_test = train_test_split(\n",
    "    X, y, test_size=0.2, random_state=123)"
   ]
  },
  {
   "cell_type": "code",
   "execution_count": 8,
   "id": "2c4c025c-f1b9-4f6e-b269-9f40c65922cf",
   "metadata": {},
   "outputs": [],
   "source": [
    "from xgboost_ray import RayDMatrix, RayParams, train\n"
   ]
  },
  {
   "cell_type": "code",
   "execution_count": 10,
   "id": "1818908e-83cf-4153-a796-5c1cb3ce3e47",
   "metadata": {},
   "outputs": [],
   "source": [
    "train_set = RayDMatrix(X_train, y_train)\n",
    "test_set = RayDMatrix(X_test, y_test)"
   ]
  },
  {
   "cell_type": "markdown",
   "id": "a8b4c01c-d01d-47f9-9aef-287dcbb0877d",
   "metadata": {},
   "source": [
    "# modeling"
   ]
  },
  {
   "cell_type": "code",
   "execution_count": null,
   "id": "e6772d85-9d2d-412c-9231-ccfc949f7bc8",
   "metadata": {},
   "outputs": [],
   "source": [
    "n_jobs = [1, \n",
    "          multiprocessing.cpu_count() // 2,\n",
    "          -1]\n",
    "\n",
    "tree_method = [\"exact\", \"hist\"] # https://xgboost.readthedocs.io/en/latest/treemethod.html#approximated-solutions\n",
    "\n",
    "param_space = list(product(n_jobs, tree_method))"
   ]
  },
  {
   "cell_type": "code",
   "execution_count": null,
   "id": "213d6f48-bf03-42d7-8951-878d669a09cf",
   "metadata": {},
   "outputs": [],
   "source": [
    "num_exp = 100\n",
    "all_exps = []\n",
    "\n",
    "\n",
    "for n, t in param_space:\n",
    "    exp_time = []\n",
    "    exp_score = []\n",
    "    experiment_dict ={}\n",
    "    experiment_dict[\"method\"] = f\"n_job={n}, tree_method={t}\"   \n",
    "    \n",
    "    print(f\"n_job={n}, tree_method={t} x {num_exp} times\")\n",
    "    \n",
    "    for i in tqdm(repeat(1, num_exp), total=num_exp):\n",
    "        \n",
    "        xgb_model = xgb.XGBClassifier(n_jobs=n,\n",
    "                                     tree_method='exact',\n",
    "                                     n_estimators=100, \n",
    "                                     random_state=123)\n",
    "        \n",
    "        \n",
    "        text_clf = Pipeline([\n",
    "            ('vect', CountVectorizer(lowercase=False, ngram_range=(1,2))),\n",
    "            ('clf', xgb_model)\n",
    "        ])\n",
    "\n",
    "        start = time.time()\n",
    "        text_clf.fit(X_train, y_train)\n",
    "        end = time.time()\n",
    "        exp_time.append(end-start)\n",
    "        \n",
    "        y_pred = text_clf.predict(X_test)\n",
    "        score = f1_score(y_test, y_pred, average='macro')\n",
    "        exp_score.append(score)\n",
    "        # print(score)\n",
    "    \n",
    "    experiment_dict[\"time_result\"] = exp_time\n",
    "    experiment_dict[\"average_score\"] = np.mean(exp_score)\n",
    "    \n",
    "    all_exps.append(experiment_dict)"
   ]
  },
  {
   "cell_type": "markdown",
   "id": "1271a147-12f2-494e-87b5-1273a4913545",
   "metadata": {},
   "source": [
    "# Visualize result"
   ]
  },
  {
   "cell_type": "code",
   "execution_count": null,
   "id": "b8faed2b-4abd-4793-9166-50463c642052",
   "metadata": {},
   "outputs": [],
   "source": [
    "df_result = pd.DataFrame(all_exps).set_index(\"method\")"
   ]
  },
  {
   "cell_type": "code",
   "execution_count": null,
   "id": "681a1bae-cefc-47ce-b203-7679e18e68cb",
   "metadata": {},
   "outputs": [],
   "source": [
    "df_result"
   ]
  },
  {
   "cell_type": "code",
   "execution_count": null,
   "id": "62321107-cacc-4178-a55b-2c744c564fc4",
   "metadata": {},
   "outputs": [],
   "source": [
    "fig = plt.figure(figsize=(10, 10))\n",
    "plt.title(f'XGB performance benchmark for {num_exp} iteration (contract classification data)')\n",
    "plt.ylabel(\"elapsed time (sec)\")\n",
    "fig = df_result[\"time_result\"].apply(lambda x: pd.Series(x)).T.boxplot(rot=45)\n",
    "plt.tight_layout()\n",
    "fig.figure.savefig('./img/performance.png')\n"
   ]
  },
  {
   "cell_type": "code",
   "execution_count": null,
   "id": "6b122275-dcc2-4e14-8731-56ed68a96261",
   "metadata": {},
   "outputs": [],
   "source": [
    "fig = plt.figure(figsize=(10, 10))\n",
    "plt.title(f'XGB average time for {num_exp} (contract classification data)')\n",
    "plt.ylabel(\"elapsed time (sec)\")\n",
    "\n",
    "df_result_t = df_result[\"time_result\"].apply(lambda x: pd.Series(x)).T\n",
    "fig = df_result_t.reindex(df_result_t.mean().sort_values().index, axis=1).mean().plot(kind='bar', rot=45)\n",
    "\n",
    "plt.tight_layout()\n",
    "fig.figure.savefig('./average_time.png')\n",
    "\n"
   ]
  },
  {
   "cell_type": "code",
   "execution_count": null,
   "id": "11584f7b-9355-4404-9704-4066ed385ae5",
   "metadata": {},
   "outputs": [],
   "source": [
    "# sparse matrix https://stats.stackexchange.com/questions/229111/improving-the-speed-of-xgboost-cv\n",
    "# ray https://www.anyscale.com/blog/three-ways-to-speed-up-xgboost-model-training\n",
    "\n"
   ]
  },
  {
   "cell_type": "code",
   "execution_count": null,
   "id": "a8476dea-0ebf-42c8-a06b-6d92c93a5964",
   "metadata": {},
   "outputs": [],
   "source": []
  },
  {
   "cell_type": "code",
   "execution_count": null,
   "id": "4ae7bbd8-3e25-4794-bf0c-db4e8355e348",
   "metadata": {},
   "outputs": [],
   "source": []
  },
  {
   "cell_type": "code",
   "execution_count": null,
   "id": "1a7a4bba-f017-421c-b989-88742121d169",
   "metadata": {},
   "outputs": [],
   "source": []
  }
 ],
 "metadata": {
  "kernelspec": {
   "display_name": "Python 3 (ipykernel)",
   "language": "python",
   "name": "python3"
  },
  "language_info": {
   "codemirror_mode": {
    "name": "ipython",
    "version": 3
   },
   "file_extension": ".py",
   "mimetype": "text/x-python",
   "name": "python",
   "nbconvert_exporter": "python",
   "pygments_lexer": "ipython3",
   "version": "3.8.15"
  }
 },
 "nbformat": 4,
 "nbformat_minor": 5
}
